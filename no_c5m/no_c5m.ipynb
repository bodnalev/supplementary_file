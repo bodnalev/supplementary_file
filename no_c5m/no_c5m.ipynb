{
 "cells": [
  {
   "cell_type": "markdown",
   "id": "60fa7a71-547f-4444-ab76-30ad097871db",
   "metadata": {},
   "source": [
    "The Turán number of $C_5^-$\n",
    "==============================\n",
    "\n",
    "This notebook contains calculations for the Turán number of $C_5^-$\n",
    "\n",
    "As the blowup of $K_4^-$ contains $C_5^-$, we can additionally assume \n",
    "that we work in $K_4^-$-free structures. \n",
    "\n",
    "1. The first cell sets up the combinatorial theory of $C_5^-$ and \n",
    "$K_4^-$-free 3-graphs (called TGp). In addition, it sets up the \n",
    "combinatorial theory on the same 3-graphs with vertices colored \n",
    "from 3 interchangeable colors (called CTGp)\n",
    "\n",
    "2. The second cell performs the basic calculation of upper bounding edges \n",
    "in the theory for Proposition 3.1. It gives the a31 = 2256667/9000000 (~ 0.250740777777) upper bound.\n",
    "The certificate proving the claim is saved to the file \"proposition_3_1.pickle\".\n",
    "\n",
    "3. The next cell lower bounds the max-cut ration (k222) for Proposition 3.2.\n",
    "Note at the optimal construction this value is exactly 25/121 (~ 0.19834710743801652892).\n",
    "The exact lower bound provided is a32 = 803587519011/4141001998336 (~ 0.194056298290585). \n",
    "The certificate proving the claim is saved to the file \"proposition_3_2.pickle\".\n",
    "\n",
    "4. The following cell works in the colored theory.\n",
    "It uses the upper bound a32 from the previous calculations.\n",
    "The calculations provide the precise density bound that there are less bad\n",
    "edges than missing edges asymptotically (even stability holds) on the top\n",
    "level. Here bad and missing is defined compared to the expected construction.\n",
    "The certificate proving this claim is saved to the file \"proposition_3_3.pickle\".\n",
    "\n",
    "5. The next cell establishes the theory for 3 colored graphs appearing as\n",
    "a link of a vertex. The patterns excluded all would result in a $C_5^-$\n",
    "assuming that all the 3-edges between the three parts are present.\n",
    "\n",
    "6. Then the calculation on the link graph is performed.\n",
    "The calculations provide the precise density bound that there are less bad\n",
    "edges than missing edges asymptotically (even stability holds). The\n",
    "certificate proving this claim is saved to the file \"proposition_3_4.pickle\".\n",
    "\n",
    "7. The first 6 cells perform the entire calculation from scratch. If one\n",
    "only wants to verify that the certificates are indeed correct, it is enough\n",
    "to run the final 4 cells instead. For each step above, it loads the generated\n",
    "certificates and verifies that the matrices are indeed positive semidefinite\n",
    "and that the bound they prove is exactly as claimed."
   ]
  },
  {
   "cell_type": "code",
   "execution_count": 1,
   "id": "3b851628-87a4-4df0-b0fb-935d3a2e4c65",
   "metadata": {},
   "outputs": [],
   "source": [
    "### Theory for 3-graphs, with k4m and c5m excluded\n",
    "k4m = ThreeGraphTheory.pattern(4, edges=[[0, 1, 2], [0, 1, 3], [0, 2, 3]])\n",
    "c5m = ThreeGraphTheory.pattern(5, edges=[[0, 1, 2], [1, 2, 3], [2, 3, 4], [3, 4, 0]])\n",
    "ThreeGraphTheory.exclude([k4m, c5m])\n",
    "TGp = ThreeGraphTheory\n",
    "\n",
    "\n",
    "# Theory for 3 colors with all symmetries allowed\n",
    "Symm3ColorTheory = combine(\"Symm3Colors\", Color0, Color1, Color2, symmetries=FullSymmetry)\n",
    "# This forces the colors to be disjoint\n",
    "Symm3ColorTheory.exclude([Symm3ColorTheory(1), Symm3ColorTheory.pattern(1, C0=[0], C1=[0])])\n",
    "ThreeColoredThreeGraphTheory = combine(\"ColoredNoC5m\", TGp, Symm3ColorTheory)\n",
    "CTGp = ThreeColoredThreeGraphTheory"
   ]
  },
  {
   "cell_type": "code",
   "execution_count": 4,
   "id": "7e338b71-9c2f-423c-8fa9-184eb1d42ac8",
   "metadata": {},
   "outputs": [
    {
     "name": "stdout",
     "output_type": "stream",
     "text": [
      "Base flags generated, their number is 1127\n",
      "The relevant ftypes are constructed, their number is 12\n",
      "Block sizes before symmetric/asymmetric change is applied: [5, 74, 32, 388, 178, 83, 97, 34, 45, 54, 31, 28]\n"
     ]
    },
    {
     "name": "stderr",
     "output_type": "stream",
     "text": [
      "Done with mult table for Ftype on 5 points with edges=(012 023 024 134): : 12it [00:01,  7.51it/s]\n"
     ]
    },
    {
     "name": "stdout",
     "output_type": "stream",
     "text": [
      "Tables finished\n",
      "Constraints finished\n",
      "Running sdp without construction. Used block sizes are [5, 26, 48, 11, 21, 14, 374, 31, 147, 35, 48, 23, 74, 10, 24, 28, 17, 27, 27, 12, 19, 8, 20, -1127, -2]\n",
      "CSDP 6.2.0\n",
      "Iter:  0 Ap: 0.00e+00 Pobj:  0.0000000e+00 Ad: 0.00e+00 Dobj:  0.0000000e+00 \n",
      "Iter:  1 Ap: 4.75e-01 Pobj: -7.8579696e+01 Ad: 1.33e-01 Dobj:  1.1544783e+00 \n",
      "Iter:  2 Ap: 6.77e-01 Pobj: -2.0704711e+02 Ad: 5.29e-01 Dobj:  4.5238754e+00 \n",
      "Iter:  3 Ap: 8.72e-01 Pobj: -4.1716308e+02 Ad: 6.11e-01 Dobj:  8.5665561e-01 \n",
      "Iter:  4 Ap: 1.00e+00 Pobj: -4.5342396e+02 Ad: 8.79e-01 Dobj:  7.8308318e-03 \n",
      "Iter:  5 Ap: 1.00e+00 Pobj: -4.0202345e+02 Ad: 8.94e-01 Dobj: -1.4867891e-01 \n",
      "Iter:  6 Ap: 7.60e-01 Pobj: -3.7223021e+02 Ad: 8.53e-01 Dobj: -1.7578573e-01 \n",
      "Iter:  7 Ap: 5.16e-01 Pobj: -3.5064902e+02 Ad: 6.62e-01 Dobj: -1.8586372e-01 \n",
      "Iter:  8 Ap: 1.23e-01 Pobj: -3.5446797e+02 Ad: 4.18e-01 Dobj: -1.7747876e-01 \n",
      "Iter:  9 Ap: 6.38e-01 Pobj: -3.2583279e+02 Ad: 4.21e-01 Dobj: -1.7502295e-01 \n",
      "Iter: 10 Ap: 9.35e-01 Pobj: -2.6900986e+02 Ad: 6.37e-01 Dobj: -1.6757018e-01 \n",
      "Iter: 11 Ap: 9.07e-01 Pobj: -2.4237010e+02 Ad: 6.26e-01 Dobj: -1.6478040e-01 \n",
      "Iter: 12 Ap: 9.71e-01 Pobj: -1.8848139e+02 Ad: 6.70e-01 Dobj: -1.6427382e-01 \n",
      "Iter: 13 Ap: 3.02e-01 Pobj: -1.7547673e+02 Ad: 6.53e-01 Dobj: -1.6404954e-01 \n",
      "Iter: 14 Ap: 7.39e-01 Pobj: -1.3496066e+02 Ad: 5.85e-01 Dobj: -1.6415844e-01 \n",
      "Iter: 15 Ap: 7.09e-01 Pobj: -9.1242755e+01 Ad: 7.79e-01 Dobj: -1.6419869e-01 \n",
      "Iter: 16 Ap: 6.29e-01 Pobj: -6.3210362e+01 Ad: 8.19e-01 Dobj: -1.6413192e-01 \n",
      "Iter: 17 Ap: 7.81e-01 Pobj: -3.9104043e+01 Ad: 1.00e+00 Dobj: -1.6399790e-01 \n",
      "Iter: 18 Ap: 9.76e-01 Pobj: -3.4945349e+00 Ad: 1.00e+00 Dobj: -1.6405853e-01 \n",
      "Iter: 19 Ap: 1.00e+00 Pobj: -5.4737998e-01 Ad: 1.00e+00 Dobj: -1.6490624e-01 \n",
      "Iter: 20 Ap: 1.00e+00 Pobj: -3.7380497e-01 Ad: 7.83e-01 Dobj: -1.7080131e-01 \n",
      "Iter: 21 Ap: 2.66e-01 Pobj: -3.6426921e-01 Ad: 1.00e+00 Dobj: -1.7707369e-01 \n",
      "Iter: 22 Ap: 1.00e+00 Pobj: -2.9691862e-01 Ad: 8.96e-01 Dobj: -1.8625526e-01 \n",
      "Iter: 23 Ap: 7.91e-01 Pobj: -2.8550158e-01 Ad: 1.00e+00 Dobj: -2.0525755e-01 \n",
      "Iter: 24 Ap: 3.87e-01 Pobj: -2.8139611e-01 Ad: 9.28e-01 Dobj: -2.1806784e-01 \n",
      "Iter: 25 Ap: 8.42e-01 Pobj: -2.6691852e-01 Ad: 1.00e+00 Dobj: -2.2862947e-01 \n",
      "Iter: 26 Ap: 9.49e-01 Pobj: -2.5575063e-01 Ad: 1.00e+00 Dobj: -2.4011997e-01 \n",
      "Iter: 27 Ap: 5.31e-01 Pobj: -2.5388835e-01 Ad: 1.00e+00 Dobj: -2.4215931e-01 \n",
      "Iter: 28 Ap: 9.33e-01 Pobj: -2.5169055e-01 Ad: 1.00e+00 Dobj: -2.4607594e-01 \n",
      "Iter: 29 Ap: 1.00e+00 Pobj: -2.5113353e-01 Ad: 1.00e+00 Dobj: -2.4816351e-01 \n",
      "Iter: 30 Ap: 1.00e+00 Pobj: -2.5096552e-01 Ad: 1.00e+00 Dobj: -2.4959820e-01 \n",
      "Iter: 31 Ap: 1.00e+00 Pobj: -2.5089115e-01 Ad: 1.00e+00 Dobj: -2.5013793e-01 \n",
      "Iter: 32 Ap: 1.00e+00 Pobj: -2.5083977e-01 Ad: 1.00e+00 Dobj: -2.5043541e-01 \n",
      "Iter: 33 Ap: 9.43e-01 Pobj: -2.5080695e-01 Ad: 1.00e+00 Dobj: -2.5059408e-01 \n",
      "Iter: 34 Ap: 7.32e-01 Pobj: -2.5079532e-01 Ad: 7.39e-01 Dobj: -2.5065651e-01 \n",
      "Iter: 35 Ap: 6.61e-01 Pobj: -2.5078455e-01 Ad: 1.00e+00 Dobj: -2.5071578e-01 \n",
      "Iter: 36 Ap: 9.82e-01 Pobj: -2.5076913e-01 Ad: 1.00e+00 Dobj: -2.5075343e-01 \n",
      "Iter: 37 Ap: 9.52e-01 Pobj: -2.5076540e-01 Ad: 1.00e+00 Dobj: -2.5076511e-01 \n",
      "Iter: 38 Ap: 1.00e+00 Pobj: -2.5076038e-01 Ad: 1.00e+00 Dobj: -2.5077887e-01 \n",
      "Iter: 39 Ap: 9.66e-01 Pobj: -2.5075870e-01 Ad: 1.00e+00 Dobj: -2.5078346e-01 \n",
      "Iter: 40 Ap: 7.40e-01 Pobj: -2.5075648e-01 Ad: 6.66e-01 Dobj: -2.5077973e-01 \n",
      "Iter: 41 Ap: 1.50e-01 Pobj: -2.5075567e-01 Ad: 3.48e-01 Dobj: -2.5077404e-01 \n",
      "Iter: 42 Ap: 3.98e-01 Pobj: -2.5075345e-01 Ad: 3.62e-01 Dobj: -2.5077025e-01 \n",
      "Iter: 43 Ap: 2.96e-01 Pobj: -2.5075199e-01 Ad: 4.23e-01 Dobj: -2.5076512e-01 \n",
      "Iter: 44 Ap: 7.69e-02 Pobj: -2.5075164e-01 Ad: 2.15e-01 Dobj: -2.5076354e-01 \n",
      "Iter: 45 Ap: 1.89e-01 Pobj: -2.5075092e-01 Ad: 5.09e-01 Dobj: -2.5076051e-01 \n",
      "Iter: 46 Ap: 3.22e-01 Pobj: -2.5074939e-01 Ad: 4.36e-01 Dobj: -2.5075809e-01 \n",
      "Iter: 47 Ap: 2.16e-01 Pobj: -2.5074872e-01 Ad: 5.52e-01 Dobj: -2.5075549e-01 \n",
      "Iter: 48 Ap: 7.81e-02 Pobj: -2.5074839e-01 Ad: 2.99e-01 Dobj: -2.5075433e-01 \n",
      "Iter: 49 Ap: 2.78e-01 Pobj: -2.5074748e-01 Ad: 3.62e-01 Dobj: -2.5075340e-01 \n",
      "Iter: 50 Ap: 2.61e-01 Pobj: -2.5074670e-01 Ad: 4.93e-01 Dobj: -2.5075196e-01 \n",
      "Iter: 51 Ap: 2.12e-01 Pobj: -2.5074612e-01 Ad: 4.51e-01 Dobj: -2.5075070e-01 \n",
      "Iter: 52 Ap: 4.73e-01 Pobj: -2.5074515e-01 Ad: 6.93e-01 Dobj: -2.5074986e-01 \n",
      "Iter: 53 Ap: 2.15e-01 Pobj: -2.5074455e-01 Ad: 4.07e-01 Dobj: -2.5074849e-01 \n",
      "Iter: 54 Ap: 2.15e-01 Pobj: -2.5074410e-01 Ad: 5.45e-01 Dobj: -2.5074741e-01 \n",
      "Iter: 55 Ap: 3.41e-01 Pobj: -2.5074346e-01 Ad: 7.24e-01 Dobj: -2.5074665e-01 \n",
      "Iter: 56 Ap: 3.62e-01 Pobj: -2.5074275e-01 Ad: 5.82e-01 Dobj: -2.5074586e-01 \n",
      "Iter: 57 Ap: 2.74e-01 Pobj: -2.5074231e-01 Ad: 4.13e-01 Dobj: -2.5074508e-01 \n",
      "Iter: 58 Ap: 3.61e-01 Pobj: -2.5074185e-01 Ad: 6.29e-01 Dobj: -2.5074426e-01 \n",
      "Iter: 59 Ap: 2.12e-01 Pobj: -2.5074161e-01 Ad: 4.96e-01 Dobj: -2.5074379e-01 \n",
      "Iter: 60 Ap: 4.93e-01 Pobj: -2.5074116e-01 Ad: 8.37e-01 Dobj: -2.5074351e-01 \n",
      "Iter: 61 Ap: 2.15e-01 Pobj: -2.5074090e-01 Ad: 4.11e-01 Dobj: -2.5074283e-01 \n",
      "Iter: 62 Ap: 2.93e-01 Pobj: -2.5074064e-01 Ad: 5.77e-01 Dobj: -2.5074228e-01 \n",
      "Iter: 63 Ap: 3.25e-01 Pobj: -2.5074037e-01 Ad: 6.69e-01 Dobj: -2.5074182e-01 \n",
      "Iter: 64 Ap: 4.55e-01 Pobj: -2.5074002e-01 Ad: 6.72e-01 Dobj: -2.5074163e-01 \n",
      "Iter: 65 Ap: 2.34e-01 Pobj: -2.5073983e-01 Ad: 5.64e-01 Dobj: -2.5074114e-01 \n",
      "Iter: 66 Ap: 3.68e-01 Pobj: -2.5073956e-01 Ad: 6.16e-01 Dobj: -2.5074080e-01 \n",
      "Iter: 67 Ap: 2.17e-01 Pobj: -2.5073938e-01 Ad: 3.98e-01 Dobj: -2.5074046e-01 \n",
      "Iter: 68 Ap: 4.46e-01 Pobj: -2.5073914e-01 Ad: 5.37e-01 Dobj: -2.5074011e-01 \n",
      "Iter: 69 Ap: 5.81e-02 Pobj: -2.5073912e-01 Ad: 5.30e-01 Dobj: -2.5073991e-01 \n",
      "Iter: 70 Ap: 9.76e-02 Pobj: -2.5073908e-01 Ad: 3.28e-01 Dobj: -2.5073978e-01 \n",
      "Iter: 71 Ap: 2.12e-01 Pobj: -2.5073899e-01 Ad: 4.82e-01 Dobj: -2.5073965e-01 \n",
      "Iter: 72 Ap: 1.92e-01 Pobj: -2.5073890e-01 Ad: 3.53e-01 Dobj: -2.5073951e-01 \n",
      "Iter: 73 Ap: 3.72e-01 Pobj: -2.5073879e-01 Ad: 6.02e-01 Dobj: -2.5073934e-01 \n",
      "Iter: 74 Ap: 3.82e-01 Pobj: -2.5073871e-01 Ad: 6.10e-01 Dobj: -2.5073916e-01 \n",
      "Iter: 75 Ap: 4.90e-01 Pobj: -2.5073863e-01 Ad: 6.44e-01 Dobj: -2.5073900e-01 \n",
      "Iter: 76 Ap: 3.60e-01 Pobj: -2.5073859e-01 Ad: 6.15e-01 Dobj: -2.5073885e-01 \n",
      "Iter: 77 Ap: 5.05e-01 Pobj: -2.5073855e-01 Ad: 6.17e-01 Dobj: -2.5073876e-01 \n",
      "Iter: 78 Ap: 3.43e-01 Pobj: -2.5073853e-01 Ad: 7.86e-01 Dobj: -2.5073864e-01 \n",
      "Iter: 79 Ap: 3.78e-01 Pobj: -2.5073851e-01 Ad: 5.27e-01 Dobj: -2.5073861e-01 \n",
      "Iter: 80 Ap: 1.95e-01 Pobj: -2.5073850e-01 Ad: 6.75e-01 Dobj: -2.5073855e-01 \n",
      "Iter: 81 Ap: 6.93e-01 Pobj: -2.5073848e-01 Ad: 6.35e-01 Dobj: -2.5073853e-01 \n",
      "Iter: 82 Ap: 6.18e-01 Pobj: -2.5073847e-01 Ad: 6.85e-01 Dobj: -2.5073850e-01 \n",
      "Iter: 83 Ap: 4.61e-01 Pobj: -2.5073847e-01 Ad: 3.27e-01 Dobj: -2.5073849e-01 \n",
      "Success: SDP solved\n",
      "Primal objective value: -2.5073847e-01 \n",
      "Dual objective value: -2.5073849e-01 \n",
      "Relative primal infeasibility: 3.44e-10 \n",
      "Relative dual infeasibility: 5.51e-11 \n",
      "Real Relative Gap: -1.95e-08 \n",
      "XZ Relative Gap: 9.17e-09 \n",
      "DIMACS error measures: 1.98e-09 0.00e+00 2.38e-10 0.00e+00 -1.95e-08 9.17e-09\n",
      "The initial run didn't provide an accurate construction\n",
      "Rounding X matrices\n"
     ]
    },
    {
     "name": "stderr",
     "output_type": "stream",
     "text": [
      "100%|███████████████████████████████████████████| 23/23 [00:11<00:00,  2.03it/s]\n"
     ]
    },
    {
     "name": "stdout",
     "output_type": "stream",
     "text": [
      "Calculating resulting bound\n"
     ]
    },
    {
     "name": "stderr",
     "output_type": "stream",
     "text": [
      "100%|███████████████████████████████████████████| 12/12 [04:27<00:00, 22.26s/it]\n"
     ]
    },
    {
     "name": "stdout",
     "output_type": "stream",
     "text": [
      "The rounded result is -2256667/9000000\n",
      "The initial upper bound on the Turan density from Proposition 3.1 is 2256667/9000000 ~= 0.250740777777778\n"
     ]
    }
   ],
   "source": [
    "### This part just gives a standard upper bound on the number of edges without C5- and K4- (Proposition 3.1)\n",
    "\n",
    "a31 = TGp.optimize(TGp(3, edges=[[0, 1, 2]]), 7,  exact=True, denom=1024*3125, file=\"certificates/proposition_3_1\")\n",
    "print(\"The initial upper bound on the Turan density from Proposition 3.1 is {} ~= {}\".format(a31, a31.n()))"
   ]
  },
  {
   "cell_type": "code",
   "execution_count": 5,
   "id": "d2b75bc6-0c5d-490c-857c-d5770f250743",
   "metadata": {},
   "outputs": [
    {
     "name": "stdout",
     "output_type": "stream",
     "text": [
      "Base flags generated, their number is 1127\n",
      "The relevant ftypes are constructed, their number is 12\n",
      "Block sizes before symmetric/asymmetric change is applied: [5, 74, 32, 388, 178, 83, 97, 34, 45, 54, 31, 28]\n"
     ]
    },
    {
     "name": "stderr",
     "output_type": "stream",
     "text": [
      "Done with mult table for Ftype on 5 points with edges=(012 023 024 134): : 12it [00:01,  6.48it/s]\n"
     ]
    },
    {
     "name": "stdout",
     "output_type": "stream",
     "text": [
      "Tables finished\n"
     ]
    },
    {
     "name": "stderr",
     "output_type": "stream",
     "text": [
      "Done with positivity constraint 0: 100%|██████████| 1/1 [00:00<00:00,  4.79it/s]\n"
     ]
    },
    {
     "name": "stdout",
     "output_type": "stream",
     "text": [
      "Constraints finished\n",
      "Running sdp without construction. Used block sizes are [5, 26, 48, 11, 21, 14, 374, 31, 147, 35, 48, 23, 74, 10, 24, 28, 17, 27, 27, 12, 19, 8, 20, -1127, -5]\n",
      "CSDP 6.2.0\n",
      "Iter:  0 Ap: 0.00e+00 Pobj:  0.0000000e+00 Ad: 0.00e+00 Dobj:  0.0000000e+00 \n",
      "Iter:  1 Ap: 6.09e-01 Pobj: -9.2052112e+01 Ad: 1.47e-01 Dobj:  3.1143968e+00 \n",
      "Iter:  2 Ap: 7.13e-01 Pobj: -2.0415140e+02 Ad: 5.43e-01 Dobj:  3.0456408e+00 \n",
      "Iter:  3 Ap: 1.00e+00 Pobj: -3.7441998e+02 Ad: 7.10e-01 Dobj:  6.9577793e-01 \n",
      "Iter:  4 Ap: 1.00e+00 Pobj: -3.7587375e+02 Ad: 8.98e-01 Dobj:  1.2288132e-01 \n",
      "Iter:  5 Ap: 1.00e+00 Pobj: -3.0805366e+02 Ad: 8.97e-01 Dobj:  3.8922662e-02 \n",
      "Iter:  6 Ap: 7.42e-01 Pobj: -2.7570730e+02 Ad: 7.38e-01 Dobj:  2.5778021e-02 \n",
      "Iter:  7 Ap: 4.99e-01 Pobj: -2.1738407e+02 Ad: 4.00e-01 Dobj:  2.9783859e-02 \n",
      "Iter:  8 Ap: 8.73e-01 Pobj: -1.4405557e+02 Ad: 5.91e-01 Dobj:  3.7240210e-02 \n",
      "Iter:  9 Ap: 1.00e+00 Pobj: -1.1671795e+02 Ad: 5.77e-01 Dobj:  4.1653897e-02 \n",
      "Iter: 10 Ap: 6.03e-01 Pobj: -1.0884614e+02 Ad: 6.26e-01 Dobj:  4.4960066e-02 \n",
      "Iter: 11 Ap: 3.46e-01 Pobj: -9.4546815e+01 Ad: 4.96e-01 Dobj:  4.6394993e-02 \n",
      "Iter: 12 Ap: 1.76e-01 Pobj: -8.7126545e+01 Ad: 4.85e-01 Dobj:  4.7207543e-02 \n",
      "Iter: 13 Ap: 3.18e-01 Pobj: -7.3524412e+01 Ad: 4.71e-01 Dobj:  4.7959388e-02 \n",
      "Iter: 14 Ap: 6.07e-01 Pobj: -5.2243943e+01 Ad: 5.21e-01 Dobj:  4.8420739e-02 \n",
      "Iter: 15 Ap: 5.96e-01 Pobj: -4.2582051e+01 Ad: 5.94e-01 Dobj:  4.8700314e-02 \n",
      "Iter: 16 Ap: 5.52e-01 Pobj: -3.5396999e+01 Ad: 5.34e-01 Dobj:  4.8819010e-02 \n",
      "Iter: 17 Ap: 3.61e-01 Pobj: -3.2185747e+01 Ad: 3.64e-01 Dobj:  4.8862674e-02 \n",
      "Iter: 18 Ap: 1.04e-01 Pobj: -3.1042636e+01 Ad: 1.86e-01 Dobj:  4.8877847e-02 \n",
      "Iter: 19 Ap: 3.00e-01 Pobj: -2.8462888e+01 Ad: 4.78e-01 Dobj:  4.8925567e-02 \n",
      "Iter: 20 Ap: 7.01e-01 Pobj: -2.2617902e+01 Ad: 3.81e-01 Dobj:  4.8955680e-02 \n",
      "Iter: 21 Ap: 5.45e-01 Pobj: -2.0857793e+01 Ad: 4.73e-01 Dobj:  4.9000456e-02 \n",
      "Iter: 22 Ap: 5.58e-01 Pobj: -1.6838060e+01 Ad: 6.18e-01 Dobj:  4.9019274e-02 \n",
      "Iter: 23 Ap: 1.90e-01 Pobj: -1.5881501e+01 Ad: 5.42e-01 Dobj:  4.9046698e-02 \n",
      "Iter: 24 Ap: 4.67e-01 Pobj: -1.1970557e+01 Ad: 7.05e-01 Dobj:  4.9051573e-02 \n",
      "Iter: 25 Ap: 8.48e-01 Pobj: -5.9905632e+00 Ad: 1.00e+00 Dobj:  4.9062566e-02 \n",
      "Iter: 26 Ap: 9.68e-01 Pobj: -4.2899294e-01 Ad: 1.00e+00 Dobj:  4.9063224e-02 \n",
      "Iter: 27 Ap: 9.88e-01 Pobj:  2.0688190e-02 Ad: 1.00e+00 Dobj:  4.9063076e-02 \n",
      "Iter: 28 Ap: 1.00e+00 Pobj:  4.4956400e-02 Ad: 1.00e+00 Dobj:  4.9051217e-02 \n",
      "Iter: 29 Ap: 1.00e+00 Pobj:  4.6639067e-02 Ad: 7.24e-01 Dobj:  4.8988167e-02 \n",
      "Iter: 30 Ap: 7.45e-01 Pobj:  4.7147046e-02 Ad: 9.30e-01 Dobj:  4.8925598e-02 \n",
      "Iter: 31 Ap: 5.12e-01 Pobj:  4.7361059e-02 Ad: 7.34e-01 Dobj:  4.8898003e-02 \n",
      "Iter: 32 Ap: 3.58e-01 Pobj:  4.7465465e-02 Ad: 7.37e-01 Dobj:  4.8877179e-02 \n",
      "Iter: 33 Ap: 5.71e-01 Pobj:  4.7694807e-02 Ad: 1.00e+00 Dobj:  4.8857013e-02 \n",
      "Iter: 34 Ap: 8.82e-01 Pobj:  4.7991478e-02 Ad: 1.00e+00 Dobj:  4.8830723e-02 \n",
      "Iter: 35 Ap: 1.00e+00 Pobj:  4.8308567e-02 Ad: 1.00e+00 Dobj:  4.8776933e-02 \n",
      "Iter: 36 Ap: 8.85e-01 Pobj:  4.8441972e-02 Ad: 1.00e+00 Dobj:  4.8736834e-02 \n",
      "Iter: 37 Ap: 8.31e-01 Pobj:  4.8497132e-02 Ad: 1.00e+00 Dobj:  4.8698094e-02 \n",
      "Iter: 38 Ap: 9.45e-01 Pobj:  4.8561531e-02 Ad: 1.00e+00 Dobj:  4.8666702e-02 \n",
      "Iter: 39 Ap: 8.57e-01 Pobj:  4.8588035e-02 Ad: 1.00e+00 Dobj:  4.8645785e-02 \n",
      "Iter: 40 Ap: 1.00e+00 Pobj:  4.8613591e-02 Ad: 1.00e+00 Dobj:  4.8631790e-02 \n",
      "Iter: 41 Ap: 1.00e+00 Pobj:  4.8629462e-02 Ad: 1.00e+00 Dobj:  4.8616203e-02 \n",
      "Iter: 42 Ap: 1.00e+00 Pobj:  4.8635937e-02 Ad: 1.00e+00 Dobj:  4.8609231e-02 \n",
      "Iter: 43 Ap: 1.00e+00 Pobj:  4.8638817e-02 Ad: 1.00e+00 Dobj:  4.8605307e-02 \n",
      "Iter: 44 Ap: 9.52e-01 Pobj:  4.8640922e-02 Ad: 1.00e+00 Dobj:  4.8605603e-02 \n",
      "Iter: 45 Ap: 2.02e-01 Pobj:  4.8643379e-02 Ad: 3.38e-01 Dobj:  4.8613753e-02 \n",
      "Iter: 46 Ap: 6.49e-03 Pobj:  4.8643518e-02 Ad: 1.16e-01 Dobj:  4.8616352e-02 \n",
      "Iter: 47 Ap: 1.05e-01 Pobj:  4.8644937e-02 Ad: 2.63e-01 Dobj:  4.8621229e-02 \n",
      "Iter: 48 Ap: 1.70e-01 Pobj:  4.8647594e-02 Ad: 2.75e-01 Dobj:  4.8625246e-02 \n",
      "Iter: 49 Ap: 1.86e-01 Pobj:  4.8649844e-02 Ad: 4.76e-01 Dobj:  4.8630464e-02 \n",
      "Iter: 50 Ap: 2.68e-01 Pobj:  4.8652327e-02 Ad: 3.69e-01 Dobj:  4.8633203e-02 \n",
      "Iter: 51 Ap: 4.53e-01 Pobj:  4.8655433e-02 Ad: 5.39e-01 Dobj:  4.8636368e-02 \n",
      "Iter: 52 Ap: 6.78e-01 Pobj:  4.8657961e-02 Ad: 7.44e-01 Dobj:  4.8638308e-02 \n",
      "Iter: 53 Ap: 2.34e-01 Pobj:  4.8659200e-02 Ad: 3.73e-01 Dobj:  4.8641980e-02 \n",
      "Iter: 54 Ap: 3.20e-01 Pobj:  4.8660864e-02 Ad: 4.25e-01 Dobj:  4.8645093e-02 \n",
      "Iter: 55 Ap: 3.96e-01 Pobj:  4.8662777e-02 Ad: 5.63e-01 Dobj:  4.8648519e-02 \n",
      "Iter: 56 Ap: 1.81e-01 Pobj:  4.8663856e-02 Ad: 5.58e-01 Dobj:  4.8651904e-02 \n",
      "Iter: 57 Ap: 3.92e-02 Pobj:  4.8664083e-02 Ad: 1.74e-01 Dobj:  4.8652382e-02 \n",
      "Iter: 58 Ap: 3.02e-01 Pobj:  4.8665458e-02 Ad: 6.50e-01 Dobj:  4.8653767e-02 \n",
      "Iter: 59 Ap: 1.05e-01 Pobj:  4.8666267e-02 Ad: 4.39e-01 Dobj:  4.8655784e-02 \n",
      "Iter: 60 Ap: 6.21e-02 Pobj:  4.8666522e-02 Ad: 2.28e-01 Dobj:  4.8656361e-02 \n",
      "Iter: 61 Ap: 3.05e-01 Pobj:  4.8667538e-02 Ad: 5.17e-01 Dobj:  4.8657292e-02 \n",
      "Iter: 62 Ap: 5.05e-01 Pobj:  4.8668646e-02 Ad: 1.00e+00 Dobj:  4.8658015e-02 \n",
      "Iter: 63 Ap: 2.06e-01 Pobj:  4.8669202e-02 Ad: 4.88e-01 Dobj:  4.8659328e-02 \n",
      "Iter: 64 Ap: 4.56e-01 Pobj:  4.8670115e-02 Ad: 8.04e-01 Dobj:  4.8660691e-02 \n",
      "Iter: 65 Ap: 1.97e-01 Pobj:  4.8670708e-02 Ad: 3.64e-01 Dobj:  4.8662297e-02 \n",
      "Iter: 66 Ap: 4.31e-01 Pobj:  4.8671510e-02 Ad: 6.65e-01 Dobj:  4.8664045e-02 \n",
      "Iter: 67 Ap: 3.25e-01 Pobj:  4.8672191e-02 Ad: 5.69e-01 Dobj:  4.8665919e-02 \n",
      "Iter: 68 Ap: 5.29e-01 Pobj:  4.8672828e-02 Ad: 8.29e-01 Dobj:  4.8667020e-02 \n",
      "Iter: 69 Ap: 2.44e-01 Pobj:  4.8673191e-02 Ad: 4.99e-01 Dobj:  4.8667940e-02 \n",
      "Iter: 70 Ap: 4.41e-01 Pobj:  4.8673568e-02 Ad: 7.09e-01 Dobj:  4.8668512e-02 \n",
      "Iter: 71 Ap: 1.76e-01 Pobj:  4.8673880e-02 Ad: 4.43e-01 Dobj:  4.8669694e-02 \n",
      "Iter: 72 Ap: 2.41e-02 Pobj:  4.8673905e-02 Ad: 2.72e-01 Dobj:  4.8670108e-02 \n",
      "Iter: 73 Ap: 1.86e-01 Pobj:  4.8674083e-02 Ad: 3.61e-01 Dobj:  4.8670498e-02 \n",
      "Iter: 74 Ap: 3.33e-01 Pobj:  4.8674350e-02 Ad: 7.90e-01 Dobj:  4.8671042e-02 \n",
      "Iter: 75 Ap: 6.16e-01 Pobj:  4.8674746e-02 Ad: 7.56e-01 Dobj:  4.8671157e-02 \n",
      "Iter: 76 Ap: 1.32e-01 Pobj:  4.8674817e-02 Ad: 2.07e-01 Dobj:  4.8671541e-02 \n",
      "Iter: 77 Ap: 2.52e-01 Pobj:  4.8674971e-02 Ad: 6.72e-01 Dobj:  4.8672530e-02 \n",
      "Iter: 78 Ap: 5.35e-01 Pobj:  4.8675252e-02 Ad: 8.58e-01 Dobj:  4.8672868e-02 \n",
      "Iter: 79 Ap: 1.82e-01 Pobj:  4.8675370e-02 Ad: 4.77e-01 Dobj:  4.8673268e-02 \n",
      "Iter: 80 Ap: 2.15e-01 Pobj:  4.8675468e-02 Ad: 5.88e-01 Dobj:  4.8673764e-02 \n",
      "Iter: 81 Ap: 8.57e-02 Pobj:  4.8675506e-02 Ad: 3.31e-01 Dobj:  4.8673964e-02 \n",
      "Iter: 82 Ap: 3.48e-01 Pobj:  4.8675628e-02 Ad: 6.81e-01 Dobj:  4.8674276e-02 \n",
      "Iter: 83 Ap: 9.36e-02 Pobj:  4.8675660e-02 Ad: 4.58e-01 Dobj:  4.8674509e-02 \n",
      "Iter: 84 Ap: 1.94e-01 Pobj:  4.8675717e-02 Ad: 2.43e-01 Dobj:  4.8674625e-02 \n",
      "Iter: 85 Ap: 4.41e-01 Pobj:  4.8675808e-02 Ad: 8.11e-01 Dobj:  4.8674917e-02 \n",
      "Iter: 86 Ap: 4.01e-01 Pobj:  4.8675875e-02 Ad: 5.55e-01 Dobj:  4.8675156e-02 \n",
      "Iter: 87 Ap: 4.38e-01 Pobj:  4.8675918e-02 Ad: 5.77e-01 Dobj:  4.8675405e-02 \n",
      "Iter: 88 Ap: 5.05e-01 Pobj:  4.8675953e-02 Ad: 7.32e-01 Dobj:  4.8675573e-02 \n",
      "Iter: 89 Ap: 5.10e-01 Pobj:  4.8675980e-02 Ad: 6.07e-01 Dobj:  4.8675710e-02 \n",
      "Iter: 90 Ap: 4.52e-01 Pobj:  4.8675996e-02 Ad: 5.71e-01 Dobj:  4.8675816e-02 \n",
      "Iter: 91 Ap: 8.09e-02 Pobj:  4.8675998e-02 Ad: 7.77e-02 Dobj:  4.8675825e-02 \n",
      "Iter: 92 Ap: 4.06e-01 Pobj:  4.8676008e-02 Ad: 6.39e-01 Dobj:  4.8675918e-02 \n",
      "Iter: 93 Ap: 8.12e-01 Pobj:  4.8676023e-02 Ad: 8.21e-01 Dobj:  4.8675958e-02 \n",
      "Iter: 94 Ap: 4.09e-01 Pobj:  4.8676026e-02 Ad: 6.93e-01 Dobj:  4.8675998e-02 \n",
      "Iter: 95 Ap: 5.22e-01 Pobj:  4.8676030e-02 Ad: 4.85e-01 Dobj:  4.8676012e-02 \n",
      "Iter: 96 Ap: 3.78e-01 Pobj:  4.8676033e-02 Ad: 4.11e-01 Dobj:  4.8676017e-02 \n",
      "Success: SDP solved\n",
      "Primal objective value: 4.8676033e-02 \n",
      "Dual objective value: 4.8676017e-02 \n",
      "Relative primal infeasibility: 1.86e-09 \n",
      "Relative dual infeasibility: 3.67e-11 \n",
      "Real Relative Gap: -1.43e-08 \n",
      "XZ Relative Gap: 6.94e-09 \n",
      "DIMACS error measures: 2.23e-09 0.00e+00 1.59e-10 0.00e+00 -1.43e-08 6.94e-09\n",
      "The initial run didn't provide an accurate construction\n",
      "Rounding X matrices\n"
     ]
    },
    {
     "name": "stderr",
     "output_type": "stream",
     "text": [
      "100%|███████████████████████████████████████████| 23/23 [00:09<00:00,  2.50it/s]\n"
     ]
    },
    {
     "name": "stdout",
     "output_type": "stream",
     "text": [
      "Calculating resulting bound\n"
     ]
    },
    {
     "name": "stderr",
     "output_type": "stream",
     "text": [
      "100%|███████████████████████████████████████████| 12/12 [04:28<00:00, 22.38s/it]\n"
     ]
    },
    {
     "name": "stdout",
     "output_type": "stream",
     "text": [
      "The rounded result is 267862506337/5505024000000\n",
      "The max-cut ratio returned by Proposition 3.2 is at least 803587519011/4141001998336 ~= 0.194056298290585\n"
     ]
    }
   ],
   "source": [
    "### This code that minimizes the max-cut ratio K222 (Proposition 3.2)\n",
    "\n",
    "# beta constant\n",
    "b32 = 1/4 - 1/100000\n",
    "edge = TGp(3, edges=[[0, 1, 2]])\n",
    "\n",
    "# First the typed f222 is constructed\n",
    "f222 = TGp.pattern(6, ftype=[0, 1, 2], edges=[[0, 1, 2], [3, 4, 5], [0, 1, 5], [0, 2, 4], [1, 2, 3]]).afae()\n",
    "# Then k222 is the projection of f222, this takes care of the automorphisms\n",
    "k222 = f222.project()\n",
    "\n",
    "gamma = TGp.optimize(k222, 7, maximize=False, positives=[edge - b32], exact=True, denom=1024*1024, file=\"certificates/proposition_3_2\")\n",
    "a32 = gamma / a31\n",
    "\n",
    "print(\"The max-cut ratio returned by Proposition 3.2 is at least {} ~= {}\".format(a32, a32.n()))"
   ]
  },
  {
   "cell_type": "code",
   "execution_count": 6,
   "id": "6a535c13-08a2-4a08-bcd0-ee43c2c4b586",
   "metadata": {
    "scrolled": true
   },
   "outputs": [
    {
     "name": "stderr",
     "output_type": "stream",
     "text": [
      "100%|██████████████████████████████████████████| 28/28 [00:00<00:00, 147.86it/s]\n"
     ]
    },
    {
     "name": "stdout",
     "output_type": "stream",
     "text": [
      "Base flags generated, their number is 2840\n",
      "The relevant ftypes are constructed, their number is 20\n",
      "Block sizes before symmetric/asymmetric change is applied: [35, 57, 82, 123, 123, 123, 40, 60, 60, 60, 60, 60, 20, 30, 30, 30, 30, 30, 30, 30]\n"
     ]
    },
    {
     "name": "stderr",
     "output_type": "stream",
     "text": [
      "Done with mult table for Ftype on 4 points with edges=(023 123), C0=(0), C1=(1), C2=(2 3): : 20it [00:01, 14.65it/s]  \n"
     ]
    },
    {
     "name": "stdout",
     "output_type": "stream",
     "text": [
      "Tables finished\n"
     ]
    },
    {
     "name": "stderr",
     "output_type": "stream",
     "text": [
      "Done with positivity constraint 1: 100%|██████████| 2/2 [00:02<00:00,  1.04s/it]\n"
     ]
    },
    {
     "name": "stdout",
     "output_type": "stream",
     "text": [
      "Constraints finished\n",
      "Adjusting table with kernels from construction\n",
      "Running SDP after kernel correction. Used block sizes are [23, 9, 30, 23, 12, 68, 33, 87, 29, 91, 43, 80, 14, 26, 39, 21, 21, 39, 39, 21, 33, 27, 39, 21, 12, 8, 24, 6, 21, 9, 18, 12, 17, 13, 12, 15, 30, 13, 17, -2840, -50]\n",
      "CSDP 6.2.0\n",
      "Iter:  0 Ap: 0.00e+00 Pobj:  0.0000000e+00 Ad: 0.00e+00 Dobj:  0.0000000e+00 \n",
      "Iter:  1 Ap: 3.70e-01 Pobj: -3.3249844e+01 Ad: 1.56e-01 Dobj:  7.8508936e+01 \n",
      "Iter:  2 Ap: 1.00e+00 Pobj: -9.5813345e+01 Ad: 5.76e-01 Dobj:  5.3686384e+01 \n",
      "Iter:  3 Ap: 1.00e+00 Pobj: -1.0281874e+02 Ad: 8.54e-01 Dobj:  8.8692314e+00 \n",
      "Iter:  4 Ap: 1.00e+00 Pobj: -1.0873663e+02 Ad: 9.25e-01 Dobj:  7.2333888e-01 \n",
      "Iter:  5 Ap: 1.00e+00 Pobj: -1.1996003e+02 Ad: 8.70e-01 Dobj:  9.2673379e-02 \n",
      "Iter:  6 Ap: 1.00e+00 Pobj: -1.4401917e+02 Ad: 6.57e-01 Dobj:  5.4231319e-02 \n",
      "Iter:  7 Ap: 4.75e-01 Pobj: -1.4135085e+02 Ad: 6.00e-01 Dobj:  3.6703319e-02 \n",
      "Iter:  8 Ap: 4.73e-01 Pobj: -1.3481341e+02 Ad: 5.32e-01 Dobj:  2.5839576e-02 \n",
      "Iter:  9 Ap: 6.62e-01 Pobj: -1.2928257e+02 Ad: 5.28e-01 Dobj:  2.4489356e-02 \n",
      "Iter: 10 Ap: 3.88e-01 Pobj: -1.2507188e+02 Ad: 5.39e-01 Dobj:  2.9529540e-02 \n",
      "Iter: 11 Ap: 3.69e-01 Pobj: -1.1448832e+02 Ad: 4.10e-01 Dobj:  3.2470553e-02 \n",
      "Iter: 12 Ap: 3.55e-01 Pobj: -1.0770664e+02 Ad: 3.77e-01 Dobj:  3.6558110e-02 \n",
      "Iter: 13 Ap: 3.95e-01 Pobj: -9.9930662e+01 Ad: 5.12e-01 Dobj:  3.8256796e-02 \n",
      "Iter: 14 Ap: 5.22e-01 Pobj: -9.2490768e+01 Ad: 4.70e-01 Dobj:  4.0588944e-02 \n",
      "Iter: 15 Ap: 6.01e-01 Pobj: -8.4865521e+01 Ad: 5.81e-01 Dobj:  4.0154841e-02 \n",
      "Iter: 16 Ap: 2.01e-01 Pobj: -8.2084828e+01 Ad: 4.88e-01 Dobj:  3.9258013e-02 \n",
      "Iter: 17 Ap: 3.97e-01 Pobj: -7.2697232e+01 Ad: 4.94e-01 Dobj:  3.8276417e-02 \n",
      "Iter: 18 Ap: 2.36e-01 Pobj: -6.7249351e+01 Ad: 4.81e-01 Dobj:  3.7638500e-02 \n",
      "Iter: 19 Ap: 3.33e-01 Pobj: -5.7988700e+01 Ad: 4.96e-01 Dobj:  3.7207543e-02 \n",
      "Iter: 20 Ap: 6.64e-01 Pobj: -4.2198503e+01 Ad: 5.59e-01 Dobj:  3.6819660e-02 \n",
      "Iter: 21 Ap: 6.31e-01 Pobj: -2.9503013e+01 Ad: 7.71e-01 Dobj:  3.6515204e-02 \n",
      "Iter: 22 Ap: 1.00e+00 Pobj: -9.1562822e+00 Ad: 1.00e+00 Dobj:  3.6322664e-02 \n",
      "Iter: 23 Ap: 9.96e-01 Pobj: -6.7249721e-01 Ad: 1.00e+00 Dobj:  3.6113871e-02 \n",
      "Iter: 24 Ap: 1.00e+00 Pobj: -2.3280190e-01 Ad: 1.00e+00 Dobj:  3.3699363e-02 \n",
      "Iter: 25 Ap: 1.00e+00 Pobj: -9.8793050e-02 Ad: 8.88e-01 Dobj:  3.0324825e-02 \n",
      "Iter: 26 Ap: 1.00e+00 Pobj: -6.2840547e-02 Ad: 1.00e+00 Dobj:  2.6957198e-02 \n",
      "Iter: 27 Ap: 1.00e+00 Pobj: -2.7780460e-02 Ad: 1.00e+00 Dobj:  2.2759248e-02 \n",
      "Iter: 28 Ap: 9.21e-01 Pobj: -1.4820872e-02 Ad: 1.00e+00 Dobj:  1.7341350e-02 \n",
      "Iter: 29 Ap: 7.55e-01 Pobj: -1.0932213e-02 Ad: 1.00e+00 Dobj:  1.3065982e-02 \n",
      "Iter: 30 Ap: 1.00e+00 Pobj: -5.4650538e-03 Ad: 1.00e+00 Dobj:  8.4822781e-03 \n",
      "Iter: 31 Ap: 1.00e+00 Pobj: -1.5088954e-03 Ad: 1.00e+00 Dobj:  3.5631357e-03 \n",
      "Iter: 32 Ap: 8.20e-01 Pobj: -6.4588493e-04 Ad: 1.00e+00 Dobj:  2.4913264e-03 \n",
      "Iter: 33 Ap: 9.57e-01 Pobj: -1.8770441e-04 Ad: 1.00e+00 Dobj:  1.3352904e-03 \n",
      "Iter: 34 Ap: 1.00e+00 Pobj: -5.7952713e-05 Ad: 1.00e+00 Dobj:  6.1687992e-04 \n",
      "Iter: 35 Ap: 6.29e-01 Pobj: -4.0602349e-05 Ad: 1.00e+00 Dobj:  3.5479222e-04 \n",
      "Iter: 36 Ap: 9.39e-01 Pobj: -1.8977289e-05 Ad: 1.00e+00 Dobj:  1.8864238e-04 \n",
      "Iter: 37 Ap: 8.99e-01 Pobj: -1.1062222e-05 Ad: 1.00e+00 Dobj:  9.4645345e-05 \n",
      "Iter: 38 Ap: 8.72e-01 Pobj: -6.7627156e-06 Ad: 1.00e+00 Dobj:  4.6194219e-05 \n",
      "Iter: 39 Ap: 8.52e-01 Pobj: -4.0971240e-06 Ad: 1.00e+00 Dobj:  1.8019856e-05 \n",
      "Iter: 40 Ap: 7.90e-01 Pobj: -2.8896457e-06 Ad: 1.00e+00 Dobj:  8.7451362e-06 \n",
      "Iter: 41 Ap: 8.22e-01 Pobj: -1.8133325e-06 Ad: 1.00e+00 Dobj: -9.2839057e-07 \n",
      "Iter: 42 Ap: 8.34e-01 Pobj: -1.2607439e-06 Ad: 1.00e+00 Dobj: -4.6351473e-06 \n",
      "Iter: 43 Ap: 8.11e-01 Pobj: -8.0950876e-07 Ad: 9.81e-01 Dobj: -8.2921726e-06 \n",
      "Iter: 44 Ap: 3.45e-01 Pobj: -7.2561701e-07 Ad: 1.00e+00 Dobj: -9.5763588e-06 \n",
      "Iter: 45 Ap: 8.67e-01 Pobj: -5.1432773e-07 Ad: 1.00e+00 Dobj: -1.0533496e-05 \n",
      "Iter: 46 Ap: 1.00e+00 Pobj: -2.5481367e-07 Ad: 1.00e+00 Dobj: -1.1751462e-05 \n",
      "Iter: 47 Ap: 1.00e+00 Pobj: -8.7921761e-08 Ad: 1.00e+00 Dobj: -4.4494481e-06 \n",
      "Iter: 48 Ap: 1.00e+00 Pobj: -2.1697460e-08 Ad: 8.87e-01 Dobj: -1.1324052e-06 \n",
      "Iter: 49 Ap: 1.00e+00 Pobj: -3.0541847e-09 Ad: 1.00e+00 Dobj: -1.0944221e-07 \n",
      "Iter: 50 Ap: 9.45e-01 Pobj: -1.5167637e-10 Ad: 9.00e-01 Dobj: -1.4728353e-08 \n",
      "Success: SDP solved\n",
      "Primal objective value: -1.5167637e-10 \n",
      "Dual objective value: -1.4728353e-08 \n",
      "Relative primal infeasibility: 1.69e-10 \n",
      "Relative dual infeasibility: 7.18e-10 \n",
      "Real Relative Gap: -1.46e-08 \n",
      "XZ Relative Gap: 5.04e-09 \n",
      "DIMACS error measures: 9.97e-10 0.00e+00 3.52e-09 0.00e+00 -1.46e-08 5.04e-09\n",
      "Starting the rounding of the result\n",
      "Rounding X matrices\n",
      "Calculating resulting bound\n"
     ]
    },
    {
     "name": "stderr",
     "output_type": "stream",
     "text": [
      "100%|███████████████████████████████████████████| 20/20 [03:57<00:00, 11.89s/it]\n"
     ]
    },
    {
     "name": "stdout",
     "output_type": "stream",
     "text": [
      "Final rounded bound is 0\n"
     ]
    },
    {
     "data": {
      "text/plain": [
       "0"
      ]
     },
     "execution_count": 6,
     "metadata": {},
     "output_type": "execute_result"
    }
   ],
   "source": [
    "### This is the code that performs the calculations on the colored theory (Proposition 3.3)\n",
    "\n",
    "# edge with (C)orrect colors\n",
    "C = CTGp(3, edges=[[0, 1, 2]], C0=[0], C1=[1], C2=[2])\n",
    "# edge with (C)orrect colors (p)ointed\n",
    "Cp = CTGp(3, edges=[[0, 1, 2]], C0=[0], C1=[1], C2=[2], ftype=[0])\n",
    "\n",
    "# edge with (B)ad colors (since color-blind, this includes the bad edges looking the wrong way too)\n",
    "B = CTGp(3, edges=[[0, 1, 2]], C0=[0, 1], C1=[2])\n",
    "\n",
    "# edge with (B)ad colors (p)ointed \n",
    "Bp = CTGp(3, edges=[[0, 1, 2]], C0=[0, 2], C1=[1], C2=[], ftype=[0])\n",
    "\n",
    "# (M)issing edge with good colors\n",
    "M = CTGp(3, edges=[], C0=[0], C1=[1], C2=[2])\n",
    "\n",
    "# positivity assumptions:\n",
    "# each point, good edges are more than bad edges (divided by two due to the symmetry between the parts)\n",
    "# edge density is larger than a32\n",
    "assums = [Cp - Bp/2, C - a32]\n",
    "\n",
    "# optimal construction and its derivatives\n",
    "symbolic_constr = CTGp.blowup_construction(6, 3, edges=[[0, 1, 2]], C0=[[0]], C1=[[1]], C2=[[2]], symmetric=True, symbolic=True).set_sum()\n",
    "ders = symbolic_constr.derivatives([1/3, 1/3])\n",
    "\n",
    "# bad is less than missing, proven by (B)ad (M)inum (M)issing is at most 0.\n",
    "CTGp.optimize(B - M*(99/100), 6, positives=assums, exact=True, construction=ders, denom=2048, file=\"certificates/proposition_3_3\")"
   ]
  },
  {
   "cell_type": "code",
   "execution_count": 7,
   "id": "d8551b3b-27c4-47d8-b877-9a6463e9e5df",
   "metadata": {},
   "outputs": [],
   "source": [
    "### Theory for 3-colored 2-graphs, the colors are not interchangeable here\n",
    "Asymm3ColorTheory = combine(\"Asymm3Colors\", Color0, Color1, Color2, symmetries=NoSymmetry)\n",
    "# Again, force the colors to be disjoint\n",
    "Asymm3ColorTheory.exclude([\n",
    "    Asymm3ColorTheory(1), \n",
    "    Asymm3ColorTheory(1, C0=[0], C1=[0]), \n",
    "    Asymm3ColorTheory(1, C0=[0], C2=[0]), \n",
    "    Asymm3ColorTheory(1, C1=[0], C2=[0]),\n",
    "    Asymm3ColorTheory(1, C0=[0], C1=[0], C2=[0])\n",
    "])\n",
    "ColoredLinkGraphTheory = combine(\"ColoredLinkGraph\", GraphTheory, Asymm3ColorTheory)\n",
    "CLGT = ColoredLinkGraphTheory\n",
    "# These non-induced patterns guarantee the theory represents a 3 colored c5m-free 3-graph's link.\n",
    "CLGT.exclude([\n",
    "    CLGT.pattern(4, edges=[[0, 1], [2, 3]], C0=[0], C1=[1, 2], C2=[3]),\n",
    "    CLGT.pattern(4, edges=[[0, 1], [2, 3]], C0=[1, 2], C1=[0], C2=[3]),\n",
    "    CLGT.pattern(4, edges=[[0, 1], [2, 3]], C0=[0], C1=[3], C2=[1, 2]),\n",
    "    \n",
    "    CLGT.pattern(3, edges=[[0, 1], [1, 2]], C0=[0], C1=[1], C2=[2]),\n",
    "    CLGT.pattern(3, edges=[[0, 1], [1, 2]], C0=[1], C1=[0], C2=[2]),\n",
    "    CLGT.pattern(3, edges=[[0, 1], [1, 2]], C0=[0], C1=[2], C2=[1]),\n",
    "\n",
    "    CLGT.pattern(3, edges=[[0, 1], [1, 2]], C0=[0, 1], C1=[2], C2=[]),\n",
    "    CLGT.pattern(3, edges=[[0, 1], [1, 2]], C0=[0, 1], C1=[], C2=[2]),\n",
    "    CLGT.pattern(3, edges=[[0, 1], [1, 2]], C0=[2], C1=[0, 1], C2=[]),\n",
    "    CLGT.pattern(3, edges=[[0, 1], [1, 2]], C0=[], C1=[0, 1], C2=[2]),\n",
    "    CLGT.pattern(3, edges=[[0, 1], [1, 2]], C0=[2], C1=[], C2=[0, 1]),\n",
    "    CLGT.pattern(3, edges=[[0, 1], [1, 2]], C0=[], C1=[2], C2=[0, 1])\n",
    "])"
   ]
  },
  {
   "cell_type": "code",
   "execution_count": 8,
   "id": "2e66d510-67ed-4ca6-b91c-8924cc4dad1e",
   "metadata": {
    "scrolled": true
   },
   "outputs": [
    {
     "name": "stdout",
     "output_type": "stream",
     "text": [
      "Base flags generated, their number is 450\n",
      "The relevant ftypes are constructed, their number is 43\n",
      "Block sizes before symmetric/asymmetric change is applied: [28, 28, 28, 24, 15, 15, 24, 15, 12, 15, 15, 15, 24, 12, 8, 9, 9, 8, 12, 8, 9, 6, 6, 6, 8, 9, 9, 8, 9, 8, 12, 10, 7, 7, 10, 7, 7, 7, 7, 10, 10, 10, 10]\n"
     ]
    },
    {
     "name": "stderr",
     "output_type": "stream",
     "text": [
      "Done with mult table for Ftype on 3 points with edges=(01 02 12), C0=(0 1 2), C1=(), C2=(): : 43it [00:00, 344.34it/s]\n"
     ]
    },
    {
     "name": "stdout",
     "output_type": "stream",
     "text": [
      "Tables finished\n"
     ]
    },
    {
     "name": "stderr",
     "output_type": "stream",
     "text": [
      "Done with positivity constraint 5: 100%|██████████| 6/6 [00:00<00:00, 52.92it/s]\n"
     ]
    },
    {
     "name": "stdout",
     "output_type": "stream",
     "text": [
      "Constraints finished\n",
      "Running sdp without construction. Used block sizes are [28, 28, 28, 12, 12, 12, 3, 12, 3, 12, 12, 12, 3, 12, 12, 3, 12, 3, 12, 3, 12, 12, 10, 2, 8, 8, 1, 8, 1, 8, 10, 2, 8, 8, 1, 6, 6, 6, 8, 8, 1, 8, 1, 8, 8, 1, 8, 10, 2, 8, 2, 6, 1, 6, 1, 8, 2, 6, 1, 6, 1, 6, 1, 6, 1, 8, 2, 6, 4, 6, 4, 6, 4, -450, -527]\n",
      "CSDP 6.2.0\n",
      "Iter:  0 Ap: 0.00e+00 Pobj:  0.0000000e+00 Ad: 0.00e+00 Dobj:  0.0000000e+00 \n",
      "Iter:  1 Ap: 1.00e+00 Pobj: -4.9907708e+01 Ad: 7.03e-01 Dobj:  7.4258520e+00 \n",
      "Iter:  2 Ap: 1.00e+00 Pobj: -5.1781514e+01 Ad: 9.53e-01 Dobj: -1.1683632e-01 \n",
      "Iter:  3 Ap: 1.00e+00 Pobj: -5.2769043e+01 Ad: 9.47e-01 Dobj: -7.8346776e-02 \n",
      "Iter:  4 Ap: 8.94e-01 Pobj: -4.5884511e+01 Ad: 8.45e-01 Dobj: -5.1164934e-02 \n",
      "Iter:  5 Ap: 9.01e-01 Pobj: -2.6397013e+01 Ad: 5.30e-01 Dobj: -1.0938337e-02 \n",
      "Iter:  6 Ap: 3.06e-01 Pobj: -2.4483384e+01 Ad: 4.85e-01 Dobj:  2.0486501e-02 \n",
      "Iter:  7 Ap: 9.52e-01 Pobj: -1.4017574e+01 Ad: 5.78e-01 Dobj:  4.4050725e-02 \n",
      "Iter:  8 Ap: 1.00e+00 Pobj: -7.5147141e+00 Ad: 7.92e-01 Dobj:  5.9776511e-02 \n",
      "Iter:  9 Ap: 8.82e-01 Pobj: -3.6681837e+00 Ad: 8.06e-01 Dobj:  6.2913602e-02 \n",
      "Iter: 10 Ap: 8.94e-01 Pobj: -1.6042355e+00 Ad: 8.29e-01 Dobj:  6.3590584e-02 \n",
      "Iter: 11 Ap: 3.77e-01 Pobj: -1.2060595e+00 Ad: 6.18e-01 Dobj:  6.2519832e-02 \n",
      "Iter: 12 Ap: 1.00e+00 Pobj: -2.3061794e-01 Ad: 7.54e-01 Dobj:  6.0122125e-02 \n",
      "Iter: 13 Ap: 1.00e+00 Pobj: -4.5816412e-02 Ad: 9.16e-01 Dobj:  4.4824339e-02 \n",
      "Iter: 14 Ap: 1.00e+00 Pobj: -2.9793910e-02 Ad: 1.00e+00 Dobj:  1.3310478e-02 \n",
      "Iter: 15 Ap: 1.00e+00 Pobj: -4.6120862e-03 Ad: 1.00e+00 Dobj:  4.8007992e-03 \n",
      "Iter: 16 Ap: 1.00e+00 Pobj: -1.0233710e-03 Ad: 9.59e-01 Dobj:  1.5885185e-03 \n",
      "Iter: 17 Ap: 1.00e+00 Pobj: -1.9765871e-04 Ad: 1.00e+00 Dobj:  2.5540592e-04 \n",
      "Iter: 18 Ap: 8.46e-01 Pobj: -1.1120532e-04 Ad: 1.00e+00 Dobj:  1.3066495e-04 \n",
      "Iter: 19 Ap: 1.00e+00 Pobj: -3.7782935e-05 Ad: 1.00e+00 Dobj:  3.9077767e-05 \n",
      "Iter: 20 Ap: 9.18e-01 Pobj: -1.2835591e-05 Ad: 1.00e+00 Dobj:  3.5574010e-06 \n",
      "Iter: 21 Ap: 3.59e-01 Pobj: -1.0445294e-05 Ad: 1.00e+00 Dobj:  1.3149956e-06 \n",
      "Iter: 22 Ap: 8.64e-01 Pobj: -5.8496528e-06 Ad: 1.00e+00 Dobj: -9.2780717e-07 \n",
      "Iter: 23 Ap: 1.00e+00 Pobj: -2.7692371e-06 Ad: 1.00e+00 Dobj: -3.6198597e-06 \n",
      "Iter: 24 Ap: 1.00e+00 Pobj: -1.1156856e-06 Ad: 9.19e-01 Dobj: -4.9450730e-06 \n",
      "Iter: 25 Ap: 1.00e+00 Pobj: -3.4821346e-07 Ad: 1.00e+00 Dobj: -1.6768932e-06 \n",
      "Iter: 26 Ap: 1.00e+00 Pobj: -6.0387722e-08 Ad: 1.00e+00 Dobj: -2.3897233e-07 \n",
      "Iter: 27 Ap: 1.00e+00 Pobj: -4.8922279e-09 Ad: 9.93e-01 Dobj: -1.5111222e-08 \n",
      "Iter: 28 Ap: 9.60e-01 Pobj: -1.9605983e-10 Ad: 9.46e-01 Dobj: -1.1509786e-09 \n",
      "Success: SDP solved\n",
      "Primal objective value: -1.9605983e-10 \n",
      "Dual objective value: -1.1509786e-09 \n",
      "Relative primal infeasibility: 1.75e-13 \n",
      "Relative dual infeasibility: 1.36e-10 \n",
      "Real Relative Gap: -9.55e-10 \n",
      "XZ Relative Gap: 8.78e-10 \n",
      "DIMACS error measures: 6.33e-13 0.00e+00 9.47e-10 0.00e+00 -9.55e-10 8.78e-10\n",
      "The initial run didn't provide an accurate construction\n",
      "Rounding X matrices\n"
     ]
    },
    {
     "name": "stderr",
     "output_type": "stream",
     "text": [
      "100%|██████████████████████████████████████████| 73/73 [00:00<00:00, 502.18it/s]\n"
     ]
    },
    {
     "name": "stdout",
     "output_type": "stream",
     "text": [
      "Calculating resulting bound\n"
     ]
    },
    {
     "name": "stderr",
     "output_type": "stream",
     "text": [
      "100%|███████████████████████████████████████████| 43/43 [00:04<00:00,  8.75it/s]\n"
     ]
    },
    {
     "name": "stdout",
     "output_type": "stream",
     "text": [
      "The rounded result is 0\n"
     ]
    },
    {
     "data": {
      "text/plain": [
       "0"
      ]
     },
     "execution_count": 8,
     "metadata": {},
     "output_type": "execute_result"
    }
   ],
   "source": [
    "### Vertex stability part (Proposition 3.4)\n",
    "\n",
    "edge_00 = CLGT(2, edges=[[0, 1]], C0=[0, 1], C1=[], C2=[])\n",
    "edge_11 = CLGT(2, edges=[[0, 1]], C0=[], C1=[0, 1], C2=[])\n",
    "edge_22 = CLGT(2, edges=[[0, 1]], C0=[], C1=[], C2=[0, 1])\n",
    "edge_01 = CLGT(2, edges=[[0, 1]], C0=[0], C1=[1], C2=[])\n",
    "edge_12 = CLGT(2, edges=[[0, 1]], C0=[], C1=[0], C2=[1])\n",
    "edge_02 = CLGT(2, edges=[[0, 1]], C0=[0], C1=[], C2=[1])\n",
    "\n",
    "point0 = CLGT(1, C0 = [0])\n",
    "point1 = CLGT(1, C1 = [0])\n",
    "point2 = CLGT(1, C2 = [0])\n",
    "\n",
    "positives = [\n",
    "    edge_12 - edge_01, \n",
    "    edge_12 - edge_02,\n",
    "    edge_01 + edge_02 + edge_12 - 1/8,\n",
    "    point0 - 1/4, \n",
    "    point1 - 1/4, \n",
    "    point2 - 1/4\n",
    "]\n",
    "\n",
    "# (M)issing edge with good colors\n",
    "M = CLGT(2, edges=[], C0=[], C1=[0], C2=[1]) \n",
    "\n",
    "# edges with (B)ad colors \n",
    "B = sum([\n",
    "    CLGT(2, edges=[[0, 1]], C0=[0], C1=[1], C2=[]),\n",
    "    CLGT(2, edges=[[0, 1]], C0=[0], C1=[], C2=[1]),\n",
    "    CLGT(2, edges=[[0, 1]], C0=[], C1=[0, 1], C2=[]),\n",
    "    CLGT(2, edges=[[0, 1]], C0=[], C1=[], C2=[0, 1])\n",
    "])\n",
    "\n",
    "CLGT.optimize(B - M*9/10, 5, positives = positives, exact=True, file=\"certificates/proposition_3_4\")"
   ]
  },
  {
   "cell_type": "markdown",
   "id": "a5f95df4-8392-4a73-aa95-10aff1f634c3",
   "metadata": {},
   "source": [
    "Verify the certificates produced\n",
    "===============================\n",
    "\n",
    "Can be run without running the above cells. Note however that the \n",
    "initial call to these cells might take longer, due to the calculation of\n",
    "the multiplication tables. Once that is complete and stored, these cells \n",
    "verify the results fairly quickly."
   ]
  },
  {
   "cell_type": "code",
   "execution_count": 9,
   "id": "8c7ee2ee-d6c9-4850-a7b6-2d21d37cadc1",
   "metadata": {},
   "outputs": [
    {
     "name": "stdout",
     "output_type": "stream",
     "text": [
      "Checking X matrices\n"
     ]
    },
    {
     "name": "stderr",
     "output_type": "stream",
     "text": [
      "12it [03:01, 15.09s/it]\n"
     ]
    },
    {
     "name": "stdout",
     "output_type": "stream",
     "text": [
      "Solution matrices are all positive semidefinite, linear coefficients are all non-negative\n",
      "Calculating multiplication tables\n"
     ]
    },
    {
     "name": "stderr",
     "output_type": "stream",
     "text": [
      "12it [00:01,  7.38it/s]\n"
     ]
    },
    {
     "name": "stdout",
     "output_type": "stream",
     "text": [
      "Done calculating linear constraints\n",
      "Calculating the bound provided by the certificate\n"
     ]
    },
    {
     "name": "stderr",
     "output_type": "stream",
     "text": [
      "12it [04:00, 20.01s/it]\n"
     ]
    },
    {
     "name": "stdout",
     "output_type": "stream",
     "text": [
      "The solution is valid, it proves the bound 2256667/9000000\n"
     ]
    },
    {
     "data": {
      "text/plain": [
       "2256667/9000000"
      ]
     },
     "execution_count": 9,
     "metadata": {},
     "output_type": "execute_result"
    }
   ],
   "source": [
    "k4m = ThreeGraphTheory.pattern(4, edges=[[0, 1, 2], [0, 1, 3], [0, 2, 3]])\n",
    "c5m = ThreeGraphTheory.pattern(5, edges=[[0, 1, 2], [1, 2, 3], [2, 3, 4], [3, 4, 0]])\n",
    "ThreeGraphTheory.exclude([k4m, c5m])\n",
    "TGp = ThreeGraphTheory\n",
    "TGp.verify(\"certificates/proposition_3_1\", TGp(3, edges=[[0, 1, 2]]), 7)"
   ]
  },
  {
   "cell_type": "code",
   "execution_count": 10,
   "id": "a8f7e074-34b4-4ea5-9b45-9d0c7e99a005",
   "metadata": {},
   "outputs": [
    {
     "name": "stdout",
     "output_type": "stream",
     "text": [
      "Checking X matrices\n"
     ]
    },
    {
     "name": "stderr",
     "output_type": "stream",
     "text": [
      "12it [02:22, 11.84s/it]\n"
     ]
    },
    {
     "name": "stdout",
     "output_type": "stream",
     "text": [
      "Solution matrices are all positive semidefinite, linear coefficients are all non-negative\n",
      "Calculating multiplication tables\n"
     ]
    },
    {
     "name": "stderr",
     "output_type": "stream",
     "text": [
      "12it [00:01,  7.08it/s]\n"
     ]
    },
    {
     "name": "stdout",
     "output_type": "stream",
     "text": [
      "Done with positivity constraint 0\n",
      "Done calculating linear constraints\n",
      "Calculating the bound provided by the certificate\n"
     ]
    },
    {
     "name": "stderr",
     "output_type": "stream",
     "text": [
      "12it [03:59, 19.99s/it]"
     ]
    },
    {
     "name": "stdout",
     "output_type": "stream",
     "text": [
      "The solution is valid, it proves the bound 267862506337/5505024000000\n"
     ]
    },
    {
     "name": "stderr",
     "output_type": "stream",
     "text": [
      "\n"
     ]
    },
    {
     "data": {
      "text/plain": [
       "267862506337/5505024000000"
      ]
     },
     "execution_count": 10,
     "metadata": {},
     "output_type": "execute_result"
    }
   ],
   "source": [
    "k4m = ThreeGraphTheory.pattern(4, edges=[[0, 1, 2], [0, 1, 3], [0, 2, 3]])\n",
    "c5m = ThreeGraphTheory.pattern(5, edges=[[0, 1, 2], [1, 2, 3], [2, 3, 4], [3, 4, 0]])\n",
    "ThreeGraphTheory.exclude([k4m, c5m])\n",
    "TGp = ThreeGraphTheory\n",
    "\n",
    "b32 = 1/4 - 1/100000\n",
    "edge = TGp(3, edges=[[0, 1, 2]])\n",
    "f222 = TGp.pattern(6, ftype=[0, 1, 2], edges=[[0, 1, 2], [3, 4, 5], [0, 1, 5], [0, 2, 4], [1, 2, 3]]).afae()\n",
    "k222 = f222.project()\n",
    "\n",
    "TGp.verify(\"certificates/proposition_3_2\", k222, 7, maximize=False, positives=[edge - b32])"
   ]
  },
  {
   "cell_type": "code",
   "execution_count": 11,
   "id": "781a249f-5aa2-4006-b580-3239d94d74d7",
   "metadata": {},
   "outputs": [
    {
     "name": "stdout",
     "output_type": "stream",
     "text": [
      "Checking X matrices\n"
     ]
    },
    {
     "name": "stderr",
     "output_type": "stream",
     "text": [
      "20it [00:03,  5.18it/s]\n"
     ]
    },
    {
     "name": "stdout",
     "output_type": "stream",
     "text": [
      "Solution matrices are all positive semidefinite, linear coefficients are all non-negative\n",
      "Calculating multiplication tables\n"
     ]
    },
    {
     "name": "stderr",
     "output_type": "stream",
     "text": [
      "20it [00:00, 33.63it/s]\n"
     ]
    },
    {
     "name": "stdout",
     "output_type": "stream",
     "text": [
      "Done with positivity constraint 0\n",
      "Done with positivity constraint 1\n",
      "Done calculating linear constraints\n",
      "Calculating the bound provided by the certificate\n"
     ]
    },
    {
     "name": "stderr",
     "output_type": "stream",
     "text": [
      "20it [03:36, 10.84s/it]"
     ]
    },
    {
     "name": "stdout",
     "output_type": "stream",
     "text": [
      "The solution is valid, it proves the bound 0\n"
     ]
    },
    {
     "name": "stderr",
     "output_type": "stream",
     "text": [
      "\n"
     ]
    },
    {
     "data": {
      "text/plain": [
       "0"
      ]
     },
     "execution_count": 11,
     "metadata": {},
     "output_type": "execute_result"
    }
   ],
   "source": [
    "Symm3ColorTheory = combine(\"Symm3Colors\", Color0, Color1, Color2, symmetries=FullSymmetry)\n",
    "Symm3ColorTheory.exclude([Symm3ColorTheory(1), Symm3ColorTheory.pattern(1, C0=[0], C1=[0])])\n",
    "ThreeColoredThreeGraphTheory = combine(\"ColoredNoC5m\", TGp, Symm3ColorTheory)\n",
    "CTGp = ThreeColoredThreeGraphTheory\n",
    "\n",
    "C = CTGp(3, edges=[[0, 1, 2]], C0=[0], C1=[1], C2=[2])\n",
    "Cp = CTGp(3, edges=[[0, 1, 2]], C0=[0], C1=[1], C2=[2], ftype=[0])\n",
    "B = CTGp(3, edges=[[0, 1, 2]], C0=[0, 1], C1=[2])\n",
    "Bp = CTGp(3, edges=[[0, 1, 2]], C0=[0, 2], C1=[1], C2=[], ftype=[0])\n",
    "M = CTGp(3, edges=[], C0=[0], C1=[1], C2=[2])\n",
    "# The calculation used a32 = 803587519011/4141001998336\n",
    "colored_assums = [Cp - Bp/2, C - 803587519011/4141001998336]\n",
    "\n",
    "CTGp.verify(\"certificates/proposition_3_3\", B + (-99/100)*M, 6, positives=colored_assums)"
   ]
  },
  {
   "cell_type": "code",
   "execution_count": 12,
   "id": "54db91a3-66a3-4943-a482-0ad6974e388a",
   "metadata": {},
   "outputs": [
    {
     "name": "stdout",
     "output_type": "stream",
     "text": [
      "Checking X matrices\n"
     ]
    },
    {
     "name": "stderr",
     "output_type": "stream",
     "text": [
      "43it [00:00, 1005.54it/s]\n"
     ]
    },
    {
     "name": "stdout",
     "output_type": "stream",
     "text": [
      "Solution matrices are all positive semidefinite, linear coefficients are all non-negative\n",
      "Calculating multiplication tables\n"
     ]
    },
    {
     "name": "stderr",
     "output_type": "stream",
     "text": [
      "43it [00:00, 675.78it/s]"
     ]
    },
    {
     "name": "stdout",
     "output_type": "stream",
     "text": [
      "Done with positivity constraint 0\n",
      "Done with positivity constraint 1\n",
      "Done with positivity constraint 2\n",
      "Done with positivity constraint 3\n",
      "Done with positivity constraint 4\n"
     ]
    },
    {
     "name": "stderr",
     "output_type": "stream",
     "text": [
      "\n"
     ]
    },
    {
     "name": "stdout",
     "output_type": "stream",
     "text": [
      "Done with positivity constraint 5\n",
      "Done calculating linear constraints\n",
      "Calculating the bound provided by the certificate\n"
     ]
    },
    {
     "name": "stderr",
     "output_type": "stream",
     "text": [
      "43it [00:04, 10.41it/s]"
     ]
    },
    {
     "name": "stdout",
     "output_type": "stream",
     "text": [
      "The solution is valid, it proves the bound 0\n"
     ]
    },
    {
     "name": "stderr",
     "output_type": "stream",
     "text": [
      "\n"
     ]
    },
    {
     "data": {
      "text/plain": [
       "0"
      ]
     },
     "execution_count": 12,
     "metadata": {},
     "output_type": "execute_result"
    }
   ],
   "source": [
    "Asymm3ColorTheory = combine(\"Asymm3Colors\", Color0, Color1, Color2, symmetries=NoSymmetry)\n",
    "Asymm3ColorTheory.exclude([\n",
    "    Asymm3ColorTheory(1), \n",
    "    Asymm3ColorTheory(1, C0=[0], C1=[0]), \n",
    "    Asymm3ColorTheory(1, C0=[0], C2=[0]), \n",
    "    Asymm3ColorTheory(1, C1=[0], C2=[0]),\n",
    "    Asymm3ColorTheory(1, C0=[0], C1=[0], C2=[0])\n",
    "])\n",
    "ColoredLinkGraphTheory = combine(\"ColoredLinkGraph\", GraphTheory, Asymm3ColorTheory)\n",
    "CLGT = ColoredLinkGraphTheory\n",
    "CLGT.exclude([\n",
    "    CLGT.pattern(4, edges=[[0, 1], [2, 3]], C0=[0], C1=[1, 2], C2=[3]),\n",
    "    CLGT.pattern(4, edges=[[0, 1], [2, 3]], C0=[1, 2], C1=[0], C2=[3]),\n",
    "    CLGT.pattern(4, edges=[[0, 1], [2, 3]], C0=[0], C1=[3], C2=[1, 2]),\n",
    "    \n",
    "    CLGT.pattern(3, edges=[[0, 1], [1, 2]], C0=[0], C1=[1], C2=[2]),\n",
    "    CLGT.pattern(3, edges=[[0, 1], [1, 2]], C0=[1], C1=[0], C2=[2]),\n",
    "    CLGT.pattern(3, edges=[[0, 1], [1, 2]], C0=[0], C1=[2], C2=[1]),\n",
    "\n",
    "    CLGT.pattern(3, edges=[[0, 1], [1, 2]], C0=[0, 1], C1=[2], C2=[]),\n",
    "    CLGT.pattern(3, edges=[[0, 1], [1, 2]], C0=[0, 1], C1=[], C2=[2]),\n",
    "    CLGT.pattern(3, edges=[[0, 1], [1, 2]], C0=[2], C1=[0, 1], C2=[]),\n",
    "    CLGT.pattern(3, edges=[[0, 1], [1, 2]], C0=[], C1=[0, 1], C2=[2]),\n",
    "    CLGT.pattern(3, edges=[[0, 1], [1, 2]], C0=[2], C1=[], C2=[0, 1]),\n",
    "    CLGT.pattern(3, edges=[[0, 1], [1, 2]], C0=[], C1=[2], C2=[0, 1])\n",
    "])\n",
    "\n",
    "edge_00 = CLGT(2, edges=[[0, 1]], C0=[0, 1], C1=[], C2=[])\n",
    "edge_11 = CLGT(2, edges=[[0, 1]], C0=[], C1=[0, 1], C2=[])\n",
    "edge_22 = CLGT(2, edges=[[0, 1]], C0=[], C1=[], C2=[0, 1])\n",
    "edge_01 = CLGT(2, edges=[[0, 1]], C0=[0], C1=[1], C2=[])\n",
    "edge_12 = CLGT(2, edges=[[0, 1]], C0=[], C1=[0], C2=[1])\n",
    "edge_02 = CLGT(2, edges=[[0, 1]], C0=[0], C1=[], C2=[1])\n",
    "point0 = CLGT(1, C0 = [0])\n",
    "point1 = CLGT(1, C1 = [0])\n",
    "point2 = CLGT(1, C2 = [0])\n",
    "positives = [\n",
    "    edge_12 - edge_01, \n",
    "    edge_12 - edge_02,\n",
    "    edge_01 + edge_02 + edge_12 - 1/8,\n",
    "    point0 - 1/4, \n",
    "    point1 - 1/4, \n",
    "    point2 - 1/4\n",
    "]\n",
    "M = CLGT(2, edges=[], C0=[], C1=[0], C2=[1]) \n",
    "B = sum([\n",
    "    CLGT(2, edges=[[0, 1]], C0=[0], C1=[1], C2=[]),\n",
    "    CLGT(2, edges=[[0, 1]], C0=[0], C1=[], C2=[1]),\n",
    "    CLGT(2, edges=[[0, 1]], C0=[], C1=[0, 1], C2=[]),\n",
    "    CLGT(2, edges=[[0, 1]], C0=[], C1=[], C2=[0, 1])\n",
    "])\n",
    "\n",
    "CLGT.verify(\"certificates/proposition_3_4\", B - M*9/10, 5, positives = positives)"
   ]
  }
 ],
 "metadata": {
  "kernelspec": {
   "display_name": "SageMath 10.5.beta7",
   "language": "sage",
   "name": "sagemath"
  },
  "language_info": {
   "codemirror_mode": {
    "name": "ipython",
    "version": 3
   },
   "file_extension": ".py",
   "mimetype": "text/x-python",
   "name": "python",
   "nbconvert_exporter": "python",
   "pygments_lexer": "ipython3",
   "version": "3.12.3"
  }
 },
 "nbformat": 4,
 "nbformat_minor": 5
}
