{
 "cells": [
  {
   "cell_type": "markdown",
   "id": "60fa7a71-547f-4444-ab76-30ad097871db",
   "metadata": {},
   "source": [
    "The Turán number of $C_5^-$\n",
    "==============================\n",
    "\n",
    "This notebook contains calculations for the Turán number of $C_5^-$\n",
    "\n",
    "As the blowup of $K_4^-$ contains $C_5^-$, we can additionally assume \n",
    "that we work in $K_4^-$-free structures. \n",
    "\n",
    "1. The first cell sets up the combinatorial theory of $C_5^-$ and \n",
    "$K_4^-$-free 3-graphs (called TGp). In addition, it sets up the \n",
    "combinatorial theory on the same 3-graphs with vertices colored \n",
    "from 3 interchangeable colors (called CTGp)\n",
    "\n",
    "2. The second cell performs the basic calculation of upper bounding edges \n",
    "in the theory. It gives the 66252689/264241152 upper bound (~ 0.25072).\n",
    "The certificate proving the claim is saved to the file \"no_c5m_0.pickle\".\n",
    "\n",
    "3. That upper bound is used in the following cell. It lower bounds the\n",
    "number of k222 near the optimum (where this value is 6/121 ~ 0.04958).\n",
    "The exact bound provided is 1609226815691/33030144000000 (~ 0.04871). \n",
    "The certificate proving the claim is saved to the file \"no_c5m_1.pickle\".\n",
    "\n",
    "4. The following cell works in the colored theory.\n",
    "It uses the upper bound of k222/k111 from the previous calculations.\n",
    "The calculations provide the precise density bound that there are less bad\n",
    "edges than missing edges asymptotically (even stability holds) on the top\n",
    "level. Here bad and missing is defined compared to the expected construction.\n",
    "The certificate proving this claim is saved to the file \"no_c5m_2.pickle\".\n",
    "\n",
    "5. The next cell establishes the theory for 3 colored graphs appearing as\n",
    "a link of a vertex. The patterns excluded all would result in a $C_5^-$\n",
    "assuming that all the 3-edges between the three parts are present.\n",
    "\n",
    "6. Then the calculation on the link graph is performed.\n",
    "The calculations provide the precise density bound that there are less bad\n",
    "edges than missing edges asymptotically (even stability holds). The\n",
    "certificate proving this claim is saved to the file \"no_c5m_3.pickle\".\n",
    "\n",
    "7. The first 6 cells perform the entire calculation from scratch. If one\n",
    "only wants to verify that the certificates are indeed correct, it is enough\n",
    "to run the final 4 cells instead. For each step above, it loads the generated\n",
    "certificates and verifies that the matrices are indeed positive semidefinite\n",
    "and that the bound they prove is exactly as claimed."
   ]
  },
  {
   "cell_type": "code",
   "execution_count": 4,
   "id": "3b851628-87a4-4df0-b0fb-935d3a2e4c65",
   "metadata": {},
   "outputs": [],
   "source": [
    "### Theory for 3-graphs, with k4m and c5m excluded\n",
    "k4m = ThreeGraphTheory.pattern(4, edges=[[0, 1, 2], [0, 1, 3], [0, 2, 3]])\n",
    "c5m = ThreeGraphTheory.pattern(5, edges=[[0, 1, 2], [1, 2, 3], [2, 3, 4], [3, 4, 0]])\n",
    "ThreeGraphTheory.exclude([k4m, c5m])\n",
    "TGp = ThreeGraphTheory\n",
    "\n",
    "\n",
    "# Theory for 3 colors with all symmetries allowed\n",
    "Symm3ColorTheory = combine(\"Symm3Colors\", Color0, Color1, Color2, symmetries=FullSymmetry)\n",
    "# This forces the colors to be disjoint\n",
    "Symm3ColorTheory.exclude([Symm3ColorTheory(1), Symm3ColorTheory.pattern(1, C0=[0], C1=[0])])\n",
    "ThreeColoredThreeGraphTheory = combine(\"ColoredNoC5m\", TGp, Symm3ColorTheory)\n",
    "CTGp = ThreeColoredThreeGraphTheory"
   ]
  },
  {
   "cell_type": "code",
   "execution_count": 5,
   "id": "7e338b71-9c2f-423c-8fa9-184eb1d42ac8",
   "metadata": {},
   "outputs": [
    {
     "name": "stdout",
     "output_type": "stream",
     "text": [
      "Base flags generated, their number is 1127\n",
      "The relevant ftypes are constructed, their number is 12\n",
      "Block sizes before symmetric/asymmetric change is applied: [5, 74, 32, 388, 178, 83, 97, 34, 45, 54, 31, 28]\n"
     ]
    },
    {
     "name": "stderr",
     "output_type": "stream",
     "text": [
      "Done with mult table for Ftype on 5 points with edges=(012 023 024 134): : 12it [00:01,  6.66it/s]\n"
     ]
    },
    {
     "name": "stdout",
     "output_type": "stream",
     "text": [
      "Tables finished\n"
     ]
    },
    {
     "name": "stderr",
     "output_type": "stream",
     "text": [
      "Done with positivity constraint 2: 100%|███████████████████████████████████████████████████████████████████████████████████████████████████████████████████████████████| 3/3 [00:02<00:00,  1.03it/s]\n"
     ]
    },
    {
     "name": "stdout",
     "output_type": "stream",
     "text": [
      "Constraints finished\n",
      "Running sdp without construction. Used block sizes are [5, 26, 48, 11, 21, 14, 374, 31, 147, 35, 48, 23, 74, 10, 24, 28, 17, 27, 27, 12, 19, 8, 20, -1127, -116]\n",
      "CSDP 6.2.0\n",
      "Iter:  0 Ap: 0.00e+00 Pobj:  0.0000000e+00 Ad: 0.00e+00 Dobj:  0.0000000e+00 \n",
      "Iter:  1 Ap: 6.22e-01 Pobj: -9.9703759e+01 Ad: 1.47e-01 Dobj: -1.9653882e+00 \n",
      "Iter:  2 Ap: 7.24e-01 Pobj: -2.2744744e+02 Ad: 5.67e-01 Dobj:  7.5195755e-01 \n",
      "Iter:  3 Ap: 1.00e+00 Pobj: -4.0469546e+02 Ad: 6.94e-01 Dobj: -6.6889385e-01 \n",
      "Iter:  4 Ap: 1.00e+00 Pobj: -4.0721128e+02 Ad: 8.99e-01 Dobj: -2.7710866e-01 \n",
      "Iter:  5 Ap: 1.00e+00 Pobj: -3.3198174e+02 Ad: 8.97e-01 Dobj: -2.4927677e-01 \n",
      "Iter:  6 Ap: 6.48e-01 Pobj: -2.9749747e+02 Ad: 7.83e-01 Dobj: -2.3843997e-01 \n",
      "Iter:  7 Ap: 5.34e-01 Pobj: -2.4329423e+02 Ad: 3.88e-01 Dobj: -2.3557783e-01 \n",
      "Iter:  8 Ap: 7.32e-01 Pobj: -1.4198434e+02 Ad: 6.42e-01 Dobj: -2.4749103e-01 \n",
      "Iter:  9 Ap: 2.45e-01 Pobj: -1.3123014e+02 Ad: 5.24e-01 Dobj: -2.4779320e-01 \n",
      "Iter: 10 Ap: 5.86e-01 Pobj: -8.7998635e+01 Ad: 4.96e-01 Dobj: -2.4886413e-01 \n",
      "Iter: 11 Ap: 6.69e-01 Pobj: -6.2385555e+01 Ad: 5.22e-01 Dobj: -2.4944477e-01 \n",
      "Iter: 12 Ap: 6.12e-01 Pobj: -5.3212616e+01 Ad: 6.11e-01 Dobj: -2.4981913e-01 \n",
      "Iter: 13 Ap: 6.08e-01 Pobj: -4.2695895e+01 Ad: 5.96e-01 Dobj: -2.4994145e-01 \n",
      "Iter: 14 Ap: 5.30e-01 Pobj: -3.5491121e+01 Ad: 6.44e-01 Dobj: -2.5000432e-01 \n",
      "Iter: 15 Ap: 4.04e-01 Pobj: -3.0174890e+01 Ad: 4.51e-01 Dobj: -2.5002079e-01 \n",
      "Iter: 16 Ap: 4.98e-01 Pobj: -2.5515728e+01 Ad: 3.31e-01 Dobj: -2.5002047e-01 \n",
      "Iter: 17 Ap: 1.25e-01 Pobj: -2.4708960e+01 Ad: 3.28e-01 Dobj: -2.5002139e-01 \n",
      "Iter: 18 Ap: 2.23e-01 Pobj: -2.2868076e+01 Ad: 3.71e-01 Dobj: -2.5002237e-01 \n",
      "Iter: 19 Ap: 4.45e-01 Pobj: -1.9640558e+01 Ad: 4.20e-01 Dobj: -2.5002205e-01 \n",
      "Iter: 20 Ap: 4.70e-01 Pobj: -1.6622091e+01 Ad: 4.97e-01 Dobj: -2.5002135e-01 \n",
      "Iter: 21 Ap: 5.85e-01 Pobj: -1.4078553e+01 Ad: 3.79e-01 Dobj: -2.5002135e-01 \n",
      "Iter: 22 Ap: 4.46e-01 Pobj: -1.2685080e+01 Ad: 6.36e-01 Dobj: -2.5001979e-01 \n",
      "Iter: 23 Ap: 9.05e-01 Pobj: -8.2702887e+00 Ad: 6.28e-01 Dobj: -2.5001785e-01 \n",
      "Iter: 24 Ap: 9.84e-01 Pobj: -5.1585623e+00 Ad: 1.00e+00 Dobj: -2.5001675e-01 \n",
      "Iter: 25 Ap: 9.64e-01 Pobj: -6.1110136e-01 Ad: 1.00e+00 Dobj: -2.5001671e-01 \n",
      "Iter: 26 Ap: 9.76e-01 Pobj: -2.7530526e-01 Ad: 1.00e+00 Dobj: -2.5001679e-01 \n",
      "Iter: 27 Ap: 1.00e+00 Pobj: -2.5316544e-01 Ad: 1.00e+00 Dobj: -2.5001872e-01 \n",
      "Iter: 28 Ap: 1.00e+00 Pobj: -2.5217498e-01 Ad: 8.26e-01 Dobj: -2.5005191e-01 \n",
      "Iter: 29 Ap: 3.24e-01 Pobj: -2.5204894e-01 Ad: 5.84e-01 Dobj: -2.5013225e-01 \n",
      "Iter: 30 Ap: 1.53e-01 Pobj: -2.5196726e-01 Ad: 5.90e-01 Dobj: -2.5018171e-01 \n",
      "Iter: 31 Ap: 2.69e-01 Pobj: -2.5190370e-01 Ad: 4.08e-01 Dobj: -2.5024922e-01 \n",
      "Iter: 32 Ap: 4.55e-01 Pobj: -2.5173149e-01 Ad: 6.81e-01 Dobj: -2.5033432e-01 \n",
      "Iter: 33 Ap: 7.77e-01 Pobj: -2.5140372e-01 Ad: 1.00e+00 Dobj: -2.5041738e-01 \n",
      "Iter: 34 Ap: 8.37e-01 Pobj: -2.5110820e-01 Ad: 1.00e+00 Dobj: -2.5051965e-01 \n",
      "Iter: 35 Ap: 6.92e-01 Pobj: -2.5097840e-01 Ad: 1.00e+00 Dobj: -2.5058332e-01 \n",
      "Iter: 36 Ap: 6.63e-01 Pobj: -2.5090891e-01 Ad: 6.42e-01 Dobj: -2.5062736e-01 \n",
      "Iter: 37 Ap: 4.77e-01 Pobj: -2.5087636e-01 Ad: 1.00e+00 Dobj: -2.5065904e-01 \n",
      "Iter: 38 Ap: 8.16e-01 Pobj: -2.5082725e-01 Ad: 1.00e+00 Dobj: -2.5068124e-01 \n",
      "Iter: 39 Ap: 1.00e+00 Pobj: -2.5078398e-01 Ad: 1.00e+00 Dobj: -2.5071572e-01 \n",
      "Iter: 40 Ap: 9.18e-01 Pobj: -2.5076506e-01 Ad: 1.00e+00 Dobj: -2.5074430e-01 \n",
      "Iter: 41 Ap: 8.01e-01 Pobj: -2.5075954e-01 Ad: 1.00e+00 Dobj: -2.5075123e-01 \n",
      "Iter: 42 Ap: 9.85e-01 Pobj: -2.5075151e-01 Ad: 1.00e+00 Dobj: -2.5076523e-01 \n",
      "Iter: 43 Ap: 8.77e-01 Pobj: -2.5074885e-01 Ad: 1.00e+00 Dobj: -2.5076953e-01 \n",
      "Iter: 44 Ap: 9.21e-01 Pobj: -2.5074639e-01 Ad: 1.00e+00 Dobj: -2.5077449e-01 \n",
      "Iter: 45 Ap: 6.82e-01 Pobj: -2.5074432e-01 Ad: 9.06e-01 Dobj: -2.5076983e-01 \n",
      "Iter: 46 Ap: 4.64e-02 Pobj: -2.5074358e-01 Ad: 2.03e-01 Dobj: -2.5076637e-01 \n",
      "Iter: 47 Ap: 1.65e-02 Pobj: -2.5074329e-01 Ad: 1.05e-01 Dobj: -2.5076501e-01 \n",
      "Iter: 48 Ap: 1.09e-01 Pobj: -2.5074219e-01 Ad: 2.14e-01 Dobj: -2.5076225e-01 \n",
      "Iter: 49 Ap: 2.94e-01 Pobj: -2.5073974e-01 Ad: 3.76e-01 Dobj: -2.5075760e-01 \n",
      "Iter: 50 Ap: 2.10e-01 Pobj: -2.5073843e-01 Ad: 4.06e-01 Dobj: -2.5075332e-01 \n",
      "Iter: 51 Ap: 1.87e-01 Pobj: -2.5073721e-01 Ad: 4.75e-01 Dobj: -2.5074977e-01 \n",
      "Iter: 52 Ap: 1.61e-01 Pobj: -2.5073621e-01 Ad: 3.50e-01 Dobj: -2.5074763e-01 \n",
      "Iter: 53 Ap: 1.44e-01 Pobj: -2.5073510e-01 Ad: 2.60e-01 Dobj: -2.5074595e-01 \n",
      "Iter: 54 Ap: 2.14e-01 Pobj: -2.5073404e-01 Ad: 4.29e-01 Dobj: -2.5074355e-01 \n",
      "Iter: 55 Ap: 3.52e-01 Pobj: -2.5073259e-01 Ad: 4.10e-01 Dobj: -2.5074189e-01 \n",
      "Iter: 56 Ap: 2.94e-01 Pobj: -2.5073168e-01 Ad: 3.03e-01 Dobj: -2.5074039e-01 \n",
      "Iter: 57 Ap: 4.82e-01 Pobj: -2.5073060e-01 Ad: 5.42e-01 Dobj: -2.5073868e-01 \n",
      "Iter: 58 Ap: 2.68e-01 Pobj: -2.5072991e-01 Ad: 4.51e-01 Dobj: -2.5073588e-01 \n",
      "Iter: 59 Ap: 1.86e-01 Pobj: -2.5072941e-01 Ad: 2.77e-01 Dobj: -2.5073491e-01 \n",
      "Iter: 60 Ap: 2.43e-01 Pobj: -2.5072892e-01 Ad: 6.12e-01 Dobj: -2.5073333e-01 \n",
      "Iter: 61 Ap: 3.89e-01 Pobj: -2.5072823e-01 Ad: 5.68e-01 Dobj: -2.5073274e-01 \n",
      "Iter: 62 Ap: 4.48e-01 Pobj: -2.5072755e-01 Ad: 7.79e-01 Dobj: -2.5073181e-01 \n",
      "Iter: 63 Ap: 1.19e-01 Pobj: -2.5072727e-01 Ad: 2.95e-01 Dobj: -2.5073109e-01 \n",
      "Iter: 64 Ap: 3.85e-01 Pobj: -2.5072672e-01 Ad: 5.43e-01 Dobj: -2.5073024e-01 \n",
      "Iter: 65 Ap: 2.48e-01 Pobj: -2.5072634e-01 Ad: 3.54e-01 Dobj: -2.5072950e-01 \n",
      "Iter: 66 Ap: 2.63e-01 Pobj: -2.5072601e-01 Ad: 4.95e-01 Dobj: -2.5072883e-01 \n",
      "Iter: 67 Ap: 2.91e-01 Pobj: -2.5072566e-01 Ad: 5.02e-01 Dobj: -2.5072821e-01 \n",
      "Iter: 68 Ap: 4.29e-01 Pobj: -2.5072525e-01 Ad: 6.73e-01 Dobj: -2.5072773e-01 \n",
      "Iter: 69 Ap: 1.67e-01 Pobj: -2.5072504e-01 Ad: 3.77e-01 Dobj: -2.5072721e-01 \n",
      "Iter: 70 Ap: 1.68e-01 Pobj: -2.5072486e-01 Ad: 4.39e-01 Dobj: -2.5072683e-01 \n",
      "Iter: 71 Ap: 2.67e-01 Pobj: -2.5072465e-01 Ad: 5.58e-01 Dobj: -2.5072658e-01 \n",
      "Iter: 72 Ap: 2.80e-01 Pobj: -2.5072440e-01 Ad: 4.64e-01 Dobj: -2.5072631e-01 \n",
      "Iter: 73 Ap: 1.65e-01 Pobj: -2.5072420e-01 Ad: 4.42e-01 Dobj: -2.5072589e-01 \n",
      "Iter: 74 Ap: 3.51e-01 Pobj: -2.5072393e-01 Ad: 5.79e-01 Dobj: -2.5072559e-01 \n",
      "Iter: 75 Ap: 1.34e-01 Pobj: -2.5072380e-01 Ad: 4.87e-01 Dobj: -2.5072522e-01 \n",
      "Iter: 76 Ap: 3.54e-01 Pobj: -2.5072349e-01 Ad: 5.10e-01 Dobj: -2.5072490e-01 \n",
      "Iter: 77 Ap: 1.98e-01 Pobj: -2.5072335e-01 Ad: 4.64e-01 Dobj: -2.5072461e-01 \n",
      "Iter: 78 Ap: 2.05e-01 Pobj: -2.5072323e-01 Ad: 4.57e-01 Dobj: -2.5072437e-01 \n",
      "Iter: 79 Ap: 4.12e-01 Pobj: -2.5072300e-01 Ad: 4.62e-01 Dobj: -2.5072416e-01 \n",
      "Iter: 80 Ap: 3.02e-01 Pobj: -2.5072288e-01 Ad: 4.29e-01 Dobj: -2.5072394e-01 \n",
      "Iter: 81 Ap: 3.38e-01 Pobj: -2.5072277e-01 Ad: 4.27e-01 Dobj: -2.5072370e-01 \n",
      "Iter: 82 Ap: 3.81e-01 Pobj: -2.5072267e-01 Ad: 5.43e-01 Dobj: -2.5072347e-01 \n",
      "Iter: 83 Ap: 1.62e-01 Pobj: -2.5072262e-01 Ad: 4.30e-01 Dobj: -2.5072326e-01 \n",
      "Iter: 84 Ap: 3.03e-01 Pobj: -2.5072253e-01 Ad: 5.33e-01 Dobj: -2.5072306e-01 \n",
      "Iter: 85 Ap: 1.30e-01 Pobj: -2.5072249e-01 Ad: 3.71e-01 Dobj: -2.5072296e-01 \n",
      "Iter: 86 Ap: 4.09e-01 Pobj: -2.5072241e-01 Ad: 5.55e-01 Dobj: -2.5072285e-01 \n",
      "Iter: 87 Ap: 2.30e-01 Pobj: -2.5072238e-01 Ad: 5.74e-01 Dobj: -2.5072272e-01 \n",
      "Iter: 88 Ap: 4.43e-01 Pobj: -2.5072233e-01 Ad: 5.17e-01 Dobj: -2.5072263e-01 \n",
      "Iter: 89 Ap: 3.45e-01 Pobj: -2.5072230e-01 Ad: 6.79e-01 Dobj: -2.5072251e-01 \n",
      "Iter: 90 Ap: 4.70e-01 Pobj: -2.5072227e-01 Ad: 5.51e-01 Dobj: -2.5072246e-01 \n",
      "Iter: 91 Ap: 1.95e-01 Pobj: -2.5072226e-01 Ad: 3.90e-01 Dobj: -2.5072241e-01 \n",
      "Iter: 92 Ap: 4.16e-01 Pobj: -2.5072225e-01 Ad: 5.74e-01 Dobj: -2.5072236e-01 \n",
      "Iter: 93 Ap: 3.96e-01 Pobj: -2.5072224e-01 Ad: 6.08e-01 Dobj: -2.5072232e-01 \n",
      "Iter: 94 Ap: 2.77e-01 Pobj: -2.5072223e-01 Ad: 4.87e-01 Dobj: -2.5072229e-01 \n",
      "Iter: 95 Ap: 4.85e-01 Pobj: -2.5072222e-01 Ad: 6.44e-01 Dobj: -2.5072227e-01 \n",
      "Iter: 96 Ap: 2.34e-01 Pobj: -2.5072222e-01 Ad: 2.50e-01 Dobj: -2.5072226e-01 \n",
      "Iter: 97 Ap: 5.02e-01 Pobj: -2.5072221e-01 Ad: 3.40e-01 Dobj: -2.5072225e-01 \n",
      "Success: SDP solved\n",
      "Primal objective value: -2.5072221e-01 \n",
      "Dual objective value: -2.5072225e-01 \n",
      "Relative primal infeasibility: 1.88e-09 \n",
      "Relative dual infeasibility: 3.71e-11 \n",
      "Real Relative Gap: -2.63e-08 \n",
      "XZ Relative Gap: 6.80e-09 \n",
      "DIMACS error measures: 1.08e-08 0.00e+00 1.65e-10 0.00e+00 -2.63e-08 6.80e-09\n",
      "The initial run didn't provide an accurate construction\n",
      "Rounding X matrices\n"
     ]
    },
    {
     "name": "stderr",
     "output_type": "stream",
     "text": [
      "100%|████████████████████████████████████████████████████████████████████████████████████████████████████████████████████████████████████████████████████████████████| 23/23 [00:06<00:00,  3.36it/s]\n"
     ]
    },
    {
     "name": "stdout",
     "output_type": "stream",
     "text": [
      "Calculating resulting bound\n"
     ]
    },
    {
     "name": "stderr",
     "output_type": "stream",
     "text": [
      "100%|████████████████████████████████████████████████████████████████████████████████████████████████████████████████████████████████████████████████████████████████| 12/12 [04:32<00:00, 22.75s/it]\n"
     ]
    },
    {
     "name": "stdout",
     "output_type": "stream",
     "text": [
      "The rounded result is -66252689/264241152\n",
      "66252689/264241152\n"
     ]
    }
   ],
   "source": [
    "### This part just gives a standard upper bound on the number of edges\n",
    "\n",
    "excess_0 = TGp(4, ftype=[0, 1], edges=[[0, 2, 3]]) + TGp(4, ftype=[0, 1], edges=[[0, 2, 3], [0, 1, 2]])\n",
    "excess_1 = TGp(4, ftype=[0, 1], edges=[[1, 2, 3]]) + TGp(4, ftype=[0, 1], edges=[[1, 2, 3], [0, 1, 2]])\n",
    "degree_difference = excess_0 - excess_1\n",
    "pointed_edge = TGp(3, edges=[[0, 1, 2]], ftype=[0])\n",
    "standard_assums = [degree_difference, -degree_difference, pointed_edge-1/4]\n",
    "\n",
    "out_0 = TGp.optimize(TGp(3, edges=[[0, 1, 2]]), 7, positives=standard_assums, exact=True, denom=1024*1024, file=\"certificates/no_c5m_0\")\n",
    "print(out_0)"
   ]
  },
  {
   "cell_type": "code",
   "execution_count": 6,
   "id": "d2b75bc6-0c5d-490c-857c-d5770f250743",
   "metadata": {},
   "outputs": [
    {
     "name": "stdout",
     "output_type": "stream",
     "text": [
      "Base flags generated, their number is 1127\n",
      "The relevant ftypes are constructed, their number is 12\n",
      "Block sizes before symmetric/asymmetric change is applied: [5, 74, 32, 388, 178, 83, 97, 34, 45, 54, 31, 28]\n"
     ]
    },
    {
     "name": "stderr",
     "output_type": "stream",
     "text": [
      "Done with mult table for Ftype on 5 points with edges=(012 023 024 134): : 12it [00:01,  7.62it/s]\n"
     ]
    },
    {
     "name": "stdout",
     "output_type": "stream",
     "text": [
      "Tables finished\n"
     ]
    },
    {
     "name": "stderr",
     "output_type": "stream",
     "text": [
      "Done with positivity constraint 1: 100%|███████████████████████████████████████████████████████████████████████████████████████████████████████████████████████████████| 2/2 [00:01<00:00,  1.74it/s]\n"
     ]
    },
    {
     "name": "stdout",
     "output_type": "stream",
     "text": [
      "Constraints finished\n",
      "Running sdp without construction. Used block sizes are [5, 26, 48, 11, 21, 14, 374, 31, 147, 35, 48, 23, 74, 10, 24, 28, 17, 27, 27, 12, 19, 8, 20, -1127, -25]\n",
      "CSDP 6.2.0\n",
      "Iter:  0 Ap: 0.00e+00 Pobj:  0.0000000e+00 Ad: 0.00e+00 Dobj:  0.0000000e+00 \n",
      "Iter:  1 Ap: 6.15e-01 Pobj: -9.1798690e+01 Ad: 1.49e-01 Dobj:  2.4826307e+00 \n",
      "Iter:  2 Ap: 7.26e-01 Pobj: -2.0730518e+02 Ad: 5.73e-01 Dobj:  2.2865981e+00 \n",
      "Iter:  3 Ap: 1.00e+00 Pobj: -3.7529655e+02 Ad: 6.91e-01 Dobj:  5.5419469e-01 \n",
      "Iter:  4 Ap: 1.00e+00 Pobj: -3.7716888e+02 Ad: 9.02e-01 Dobj:  9.5955164e-02 \n",
      "Iter:  5 Ap: 1.00e+00 Pobj: -3.0591892e+02 Ad: 9.11e-01 Dobj:  3.1685587e-02 \n",
      "Iter:  6 Ap: 6.00e-01 Pobj: -2.7360694e+02 Ad: 7.17e-01 Dobj:  2.3686542e-02 \n",
      "Iter:  7 Ap: 5.80e-01 Pobj: -2.2269434e+02 Ad: 3.47e-01 Dobj:  2.4065854e-02 \n",
      "Iter:  8 Ap: 8.22e-01 Pobj: -1.3716314e+02 Ad: 6.32e-01 Dobj:  3.6397937e-02 \n",
      "Iter:  9 Ap: 9.63e-01 Pobj: -1.0350275e+02 Ad: 5.66e-01 Dobj:  4.1117775e-02 \n",
      "Iter: 10 Ap: 8.68e-01 Pobj: -8.9785875e+01 Ad: 5.12e-01 Dobj:  4.4329264e-02 \n",
      "Iter: 11 Ap: 7.60e-01 Pobj: -8.4271295e+01 Ad: 5.82e-01 Dobj:  4.6545666e-02 \n",
      "Iter: 12 Ap: 5.73e-01 Pobj: -7.5404456e+01 Ad: 5.21e-01 Dobj:  4.7640788e-02 \n",
      "Iter: 13 Ap: 4.84e-01 Pobj: -6.7001908e+01 Ad: 5.76e-01 Dobj:  4.8313676e-02 \n",
      "Iter: 14 Ap: 5.97e-01 Pobj: -5.3468039e+01 Ad: 4.97e-01 Dobj:  4.8646129e-02 \n",
      "Iter: 15 Ap: 6.09e-01 Pobj: -4.5796517e+01 Ad: 5.94e-01 Dobj:  4.8876948e-02 \n",
      "Iter: 16 Ap: 6.80e-01 Pobj: -3.7917134e+01 Ad: 4.05e-01 Dobj:  4.8977445e-02 \n",
      "Iter: 17 Ap: 1.39e-01 Pobj: -3.7135580e+01 Ad: 2.93e-01 Dobj:  4.8990974e-02 \n",
      "Iter: 18 Ap: 4.48e-01 Pobj: -3.3101757e+01 Ad: 4.36e-01 Dobj:  4.9033121e-02 \n",
      "Iter: 19 Ap: 5.09e-01 Pobj: -2.9772277e+01 Ad: 4.56e-01 Dobj:  4.9053583e-02 \n",
      "Iter: 20 Ap: 2.79e-01 Pobj: -2.7458549e+01 Ad: 5.19e-01 Dobj:  4.9046005e-02 \n",
      "Iter: 21 Ap: 3.51e-01 Pobj: -2.3787079e+01 Ad: 3.10e-01 Dobj:  4.9055642e-02 \n",
      "Iter: 22 Ap: 3.64e-01 Pobj: -2.1294580e+01 Ad: 5.98e-01 Dobj:  4.9091678e-02 \n",
      "Iter: 23 Ap: 3.11e-01 Pobj: -1.9038981e+01 Ad: 5.01e-01 Dobj:  4.9115150e-02 \n",
      "Iter: 24 Ap: 5.41e-01 Pobj: -1.3660210e+01 Ad: 8.23e-01 Dobj:  4.9136520e-02 \n",
      "Iter: 25 Ap: 7.98e-01 Pobj: -6.0897676e+00 Ad: 1.00e+00 Dobj:  4.9145454e-02 \n",
      "Iter: 26 Ap: 9.49e-01 Pobj: -5.6144158e-01 Ad: 1.00e+00 Dobj:  4.9146640e-02 \n",
      "Iter: 27 Ap: 9.79e-01 Pobj:  7.4773348e-03 Ad: 1.00e+00 Dobj:  4.9147076e-02 \n",
      "Iter: 28 Ap: 1.00e+00 Pobj:  4.3446671e-02 Ad: 1.00e+00 Dobj:  4.9137612e-02 \n",
      "Iter: 29 Ap: 1.00e+00 Pobj:  4.5750966e-02 Ad: 7.67e-01 Dobj:  4.9070411e-02 \n",
      "Iter: 30 Ap: 8.25e-01 Pobj:  4.6830993e-02 Ad: 1.00e+00 Dobj:  4.9007316e-02 \n",
      "Iter: 31 Ap: 4.51e-01 Pobj:  4.7011426e-02 Ad: 7.61e-01 Dobj:  4.8958000e-02 \n",
      "Iter: 32 Ap: 5.39e-01 Pobj:  4.7273003e-02 Ad: 1.00e+00 Dobj:  4.8927169e-02 \n",
      "Iter: 33 Ap: 1.00e+00 Pobj:  4.7761110e-02 Ad: 1.00e+00 Dobj:  4.8893322e-02 \n",
      "Iter: 34 Ap: 1.00e+00 Pobj:  4.8260703e-02 Ad: 1.00e+00 Dobj:  4.8825029e-02 \n",
      "Iter: 35 Ap: 5.27e-01 Pobj:  4.8327069e-02 Ad: 8.36e-01 Dobj:  4.8797524e-02 \n",
      "Iter: 36 Ap: 1.74e-01 Pobj:  4.8350437e-02 Ad: 6.18e-01 Dobj:  4.8798480e-02 \n",
      "Iter: 37 Ap: 3.43e-01 Pobj:  4.8373438e-02 Ad: 7.21e-01 Dobj:  4.8783648e-02 \n",
      "Iter: 38 Ap: 2.83e-01 Pobj:  4.8395951e-02 Ad: 8.56e-01 Dobj:  4.8768536e-02 \n",
      "Iter: 39 Ap: 3.51e-01 Pobj:  4.8426820e-02 Ad: 9.03e-01 Dobj:  4.8766987e-02 \n",
      "Iter: 40 Ap: 4.02e-01 Pobj:  4.8453057e-02 Ad: 1.00e+00 Dobj:  4.8759213e-02 \n",
      "Iter: 41 Ap: 9.27e-01 Pobj:  4.8544953e-02 Ad: 1.00e+00 Dobj:  4.8728290e-02 \n",
      "Iter: 42 Ap: 1.00e+00 Pobj:  4.8627951e-02 Ad: 1.00e+00 Dobj:  4.8694514e-02 \n",
      "Iter: 43 Ap: 7.25e-01 Pobj:  4.8642625e-02 Ad: 8.90e-01 Dobj:  4.8676378e-02 \n",
      "Iter: 44 Ap: 2.64e-01 Pobj:  4.8647704e-02 Ad: 1.00e+00 Dobj:  4.8671080e-02 \n",
      "Iter: 45 Ap: 9.40e-01 Pobj:  4.8669100e-02 Ad: 9.73e-01 Dobj:  4.8660663e-02 \n",
      "Iter: 46 Ap: 9.57e-01 Pobj:  4.8679281e-02 Ad: 1.00e+00 Dobj:  4.8651568e-02 \n",
      "Iter: 47 Ap: 1.00e+00 Pobj:  4.8683653e-02 Ad: 1.00e+00 Dobj:  4.8647082e-02 \n",
      "Iter: 48 Ap: 1.00e+00 Pobj:  4.8686356e-02 Ad: 1.00e+00 Dobj:  4.8643608e-02 \n",
      "Iter: 49 Ap: 3.50e-01 Pobj:  4.8689083e-02 Ad: 3.46e-01 Dobj:  4.8650758e-02 \n",
      "Iter: 50 Ap: 8.48e-02 Pobj:  4.8690035e-02 Ad: 2.70e-01 Dobj:  4.8657294e-02 \n",
      "Iter: 51 Ap: 3.48e-01 Pobj:  4.8693437e-02 Ad: 2.31e-01 Dobj:  4.8661295e-02 \n",
      "Iter: 52 Ap: 2.95e-01 Pobj:  4.8695621e-02 Ad: 4.05e-01 Dobj:  4.8668659e-02 \n",
      "Iter: 53 Ap: 3.28e-01 Pobj:  4.8697803e-02 Ad: 4.94e-01 Dobj:  4.8674110e-02 \n",
      "Iter: 54 Ap: 2.93e-01 Pobj:  4.8699959e-02 Ad: 4.12e-01 Dobj:  4.8677776e-02 \n",
      "Iter: 55 Ap: 4.22e-01 Pobj:  4.8702258e-02 Ad: 5.95e-01 Dobj:  4.8680821e-02 \n",
      "Iter: 56 Ap: 2.88e-01 Pobj:  4.8704141e-02 Ad: 3.27e-01 Dobj:  4.8683360e-02 \n",
      "Iter: 57 Ap: 2.42e-01 Pobj:  4.8705235e-02 Ad: 4.16e-01 Dobj:  4.8686453e-02 \n",
      "Iter: 58 Ap: 3.77e-01 Pobj:  4.8706838e-02 Ad: 8.05e-01 Dobj:  4.8689671e-02 \n",
      "Iter: 59 Ap: 1.50e-01 Pobj:  4.8708282e-02 Ad: 3.27e-01 Dobj:  4.8691602e-02 \n",
      "Iter: 60 Ap: 4.44e-02 Pobj:  4.8708531e-02 Ad: 4.46e-01 Dobj:  4.8693911e-02 \n",
      "Iter: 61 Ap: 4.16e-01 Pobj:  4.8710380e-02 Ad: 5.65e-01 Dobj:  4.8695352e-02 \n",
      "Iter: 62 Ap: 1.30e-01 Pobj:  4.8711476e-02 Ad: 3.29e-01 Dobj:  4.8697765e-02 \n",
      "Iter: 63 Ap: 2.83e-01 Pobj:  4.8712748e-02 Ad: 5.29e-01 Dobj:  4.8700306e-02 \n",
      "Iter: 64 Ap: 4.52e-01 Pobj:  4.8714220e-02 Ad: 6.18e-01 Dobj:  4.8701708e-02 \n",
      "Iter: 65 Ap: 3.46e-01 Pobj:  4.8715353e-02 Ad: 5.65e-01 Dobj:  4.8703948e-02 \n",
      "Iter: 66 Ap: 4.18e-01 Pobj:  4.8716321e-02 Ad: 6.79e-01 Dobj:  4.8705658e-02 \n",
      "Iter: 67 Ap: 1.71e-01 Pobj:  4.8716687e-02 Ad: 6.71e-01 Dobj:  4.8706915e-02 \n",
      "Iter: 68 Ap: 2.61e-01 Pobj:  4.8717570e-02 Ad: 4.44e-01 Dobj:  4.8708052e-02 \n",
      "Iter: 69 Ap: 3.40e-01 Pobj:  4.8718598e-02 Ad: 5.26e-01 Dobj:  4.8709813e-02 \n",
      "Iter: 70 Ap: 2.65e-01 Pobj:  4.8719159e-02 Ad: 7.23e-01 Dobj:  4.8711685e-02 \n",
      "Iter: 71 Ap: 2.59e-01 Pobj:  4.8719744e-02 Ad: 4.92e-01 Dobj:  4.8712337e-02 \n",
      "Iter: 72 Ap: 3.65e-01 Pobj:  4.8720494e-02 Ad: 6.41e-01 Dobj:  4.8713161e-02 \n",
      "Iter: 73 Ap: 1.09e-01 Pobj:  4.8720838e-02 Ad: 4.24e-01 Dobj:  4.8714395e-02 \n",
      "Iter: 74 Ap: 3.83e-01 Pobj:  4.8721544e-02 Ad: 4.97e-01 Dobj:  4.8715171e-02 \n",
      "Iter: 75 Ap: 4.05e-01 Pobj:  4.8722098e-02 Ad: 7.85e-01 Dobj:  4.8716156e-02 \n",
      "Iter: 76 Ap: 1.53e-01 Pobj:  4.8722403e-02 Ad: 4.93e-01 Dobj:  4.8716964e-02 \n",
      "Iter: 77 Ap: 2.21e-01 Pobj:  4.8722777e-02 Ad: 4.38e-01 Dobj:  4.8717523e-02 \n",
      "Iter: 78 Ap: 5.38e-01 Pobj:  4.8723370e-02 Ad: 7.69e-01 Dobj:  4.8718029e-02 \n",
      "Iter: 79 Ap: 1.26e-01 Pobj:  4.8723612e-02 Ad: 2.27e-01 Dobj:  4.8718577e-02 \n",
      "Iter: 80 Ap: 4.02e-01 Pobj:  4.8724067e-02 Ad: 6.40e-01 Dobj:  4.8719735e-02 \n",
      "Iter: 81 Ap: 5.23e-01 Pobj:  4.8724427e-02 Ad: 8.43e-01 Dobj:  4.8720245e-02 \n",
      "Iter: 82 Ap: 2.18e-01 Pobj:  4.8724726e-02 Ad: 3.97e-01 Dobj:  4.8720723e-02 \n",
      "Iter: 83 Ap: 3.20e-01 Pobj:  4.8724931e-02 Ad: 6.63e-01 Dobj:  4.8721302e-02 \n",
      "Iter: 84 Ap: 1.96e-01 Pobj:  4.8725136e-02 Ad: 3.86e-01 Dobj:  4.8721844e-02 \n",
      "Iter: 85 Ap: 2.07e-01 Pobj:  4.8725319e-02 Ad: 3.00e-01 Dobj:  4.8722298e-02 \n",
      "Iter: 86 Ap: 2.73e-01 Pobj:  4.8725498e-02 Ad: 3.01e-01 Dobj:  4.8722683e-02 \n",
      "Iter: 87 Ap: 2.25e-01 Pobj:  4.8725594e-02 Ad: 5.27e-01 Dobj:  4.8723153e-02 \n",
      "Iter: 88 Ap: 2.71e-01 Pobj:  4.8725729e-02 Ad: 5.95e-01 Dobj:  4.8723640e-02 \n",
      "Iter: 89 Ap: 2.06e-01 Pobj:  4.8725823e-02 Ad: 4.76e-01 Dobj:  4.8723911e-02 \n",
      "Iter: 90 Ap: 3.83e-01 Pobj:  4.8725943e-02 Ad: 6.75e-01 Dobj:  4.8724230e-02 \n",
      "Iter: 91 Ap: 1.19e-01 Pobj:  4.8725994e-02 Ad: 4.33e-01 Dobj:  4.8724567e-02 \n",
      "Iter: 92 Ap: 1.85e-01 Pobj:  4.8726046e-02 Ad: 3.24e-01 Dobj:  4.8724769e-02 \n",
      "Iter: 93 Ap: 3.76e-01 Pobj:  4.8726120e-02 Ad: 6.72e-01 Dobj:  4.8725052e-02 \n",
      "Iter: 94 Ap: 3.59e-01 Pobj:  4.8726183e-02 Ad: 6.49e-01 Dobj:  4.8725328e-02 \n",
      "Iter: 95 Ap: 3.36e-01 Pobj:  4.8726226e-02 Ad: 5.97e-01 Dobj:  4.8725559e-02 \n",
      "Iter: 96 Ap: 4.25e-01 Pobj:  4.8726264e-02 Ad: 6.46e-01 Dobj:  4.8725701e-02 \n",
      "Iter: 97 Ap: 1.62e-01 Pobj:  4.8726276e-02 Ad: 3.40e-01 Dobj:  4.8725813e-02 \n",
      "Iter: 98 Ap: 3.80e-01 Pobj:  4.8726300e-02 Ad: 3.84e-01 Dobj:  4.8725896e-02 \n",
      "Iter: 99 Ap: 2.11e-01 Pobj:  4.8726310e-02 Ad: 5.56e-01 Dobj:  4.8726019e-02 \n",
      "Iter: 100 Ap: 4.24e-01 Pobj:  4.8726330e-02 Ad: 5.29e-01 Dobj:  4.8726095e-02 \n",
      "Maximum iterations reached. \n",
      "Partial Success: SDP solved with reduced accuracy\n",
      "Primal objective value: 4.8726332e-02 \n",
      "Dual objective value: 4.8726057e-02 \n",
      "Relative primal infeasibility: 2.11e-09 \n",
      "Relative dual infeasibility: 3.01e-10 \n",
      "Real Relative Gap: -2.51e-07 \n",
      "XZ Relative Gap: 3.68e-08 \n",
      "DIMACS error measures: 2.53e-09 0.00e+00 1.32e-09 0.00e+00 -2.51e-07 3.68e-08\n",
      "The initial run didn't provide an accurate construction\n",
      "Rounding X matrices\n"
     ]
    },
    {
     "name": "stderr",
     "output_type": "stream",
     "text": [
      "100%|████████████████████████████████████████████████████████████████████████████████████████████████████████████████████████████████████████████████████████████████| 23/23 [00:07<00:00,  3.11it/s]\n"
     ]
    },
    {
     "name": "stdout",
     "output_type": "stream",
     "text": [
      "Calculating resulting bound\n"
     ]
    },
    {
     "name": "stderr",
     "output_type": "stream",
     "text": [
      "100%|████████████████████████████████████████████████████████████████████████████████████████████████████████████████████████████████████████████████████████████████| 12/12 [04:27<00:00, 22.33s/it]\n"
     ]
    },
    {
     "name": "stdout",
     "output_type": "stream",
     "text": [
      "The rounded result is 1609226815691/33030144000000\n",
      "1609226815691/33030144000000\n"
     ]
    }
   ],
   "source": [
    "### This code minimizes k222\n",
    "\n",
    "pointed_edge = TGp(3, edges=[[0, 1, 2]], ftype=[0])\n",
    "edge = TGp(3, edges=[[0, 1, 2]])\n",
    "\n",
    "f222 = TGp.pattern(6, ftype=[0, 1, 2], edges=[[0, 1, 2], [3, 4, 5], [0, 1, 5], [0, 2, 4], [1, 2, 3]]).afae()\n",
    "k222 = f222.project()\n",
    "\n",
    "degree_lower = pointed_edge - 1/4 + 1/100000\n",
    "edge_upper = out_0 - edge\n",
    "uncolored_assums = [degree_lower, edge_upper]\n",
    "\n",
    "out_1 = TGp.optimize(k222, 7, maximize=False, positives=uncolored_assums, exact=True, denom=1024*1024, file=\"certificates/no_c5m_1\")\n",
    "print(out_1)"
   ]
  },
  {
   "cell_type": "code",
   "execution_count": 7,
   "id": "6a535c13-08a2-4a08-bcd0-ee43c2c4b586",
   "metadata": {
    "scrolled": true
   },
   "outputs": [
    {
     "name": "stderr",
     "output_type": "stream",
     "text": [
      "100%|███████████████████████████████████████████████████████████████████████████████████████████████████████████████████████████████████████████████████████████████| 28/28 [00:00<00:00, 151.60it/s]\n"
     ]
    },
    {
     "name": "stdout",
     "output_type": "stream",
     "text": [
      "Base flags generated, their number is 2840\n",
      "The relevant ftypes are constructed, their number is 20\n",
      "Block sizes before symmetric/asymmetric change is applied: [35, 57, 82, 123, 123, 123, 40, 60, 60, 60, 60, 60, 20, 30, 30, 30, 30, 30, 30, 30]\n"
     ]
    },
    {
     "name": "stderr",
     "output_type": "stream",
     "text": [
      "Done with mult table for Ftype on 4 points with edges=(023 123), C0=(0), C1=(1), C2=(2 3): : 20it [00:01, 14.42it/s]  \n"
     ]
    },
    {
     "name": "stdout",
     "output_type": "stream",
     "text": [
      "Tables finished\n"
     ]
    },
    {
     "name": "stderr",
     "output_type": "stream",
     "text": [
      "Done with positivity constraint 1: 100%|███████████████████████████████████████████████████████████████████████████████████████████████████████████████████████████████| 2/2 [00:02<00:00,  1.07s/it]\n"
     ]
    },
    {
     "name": "stdout",
     "output_type": "stream",
     "text": [
      "Constraints finished\n",
      "Adjusting table with kernels from construction\n",
      "Running SDP after kernel correction. Used block sizes are [23, 9, 30, 23, 12, 68, 33, 87, 29, 91, 43, 80, 14, 26, 39, 21, 21, 39, 39, 21, 33, 27, 39, 21, 12, 8, 24, 6, 21, 9, 18, 12, 17, 13, 12, 15, 30, 13, 17, -2840, -50]\n",
      "CSDP 6.2.0\n",
      "Iter:  0 Ap: 0.00e+00 Pobj:  0.0000000e+00 Ad: 0.00e+00 Dobj:  0.0000000e+00 \n",
      "Iter:  1 Ap: 3.70e-01 Pobj: -3.3244178e+01 Ad: 1.56e-01 Dobj:  7.8500918e+01 \n",
      "Iter:  2 Ap: 1.00e+00 Pobj: -9.5800862e+01 Ad: 5.76e-01 Dobj:  5.3679561e+01 \n",
      "Iter:  3 Ap: 1.00e+00 Pobj: -1.0280511e+02 Ad: 8.54e-01 Dobj:  8.8688637e+00 \n",
      "Iter:  4 Ap: 1.00e+00 Pobj: -1.0872234e+02 Ad: 9.25e-01 Dobj:  7.2338257e-01 \n",
      "Iter:  5 Ap: 1.00e+00 Pobj: -1.1994768e+02 Ad: 8.70e-01 Dobj:  9.2773282e-02 \n",
      "Iter:  6 Ap: 1.00e+00 Pobj: -1.4397181e+02 Ad: 6.35e-01 Dobj:  5.5633716e-02 \n",
      "Iter:  7 Ap: 4.65e-01 Pobj: -1.4070053e+02 Ad: 6.36e-01 Dobj:  3.9882986e-02 \n",
      "Iter:  8 Ap: 4.61e-01 Pobj: -1.3339270e+02 Ad: 5.19e-01 Dobj:  2.6713902e-02 \n",
      "Iter:  9 Ap: 6.97e-01 Pobj: -1.2730823e+02 Ad: 5.24e-01 Dobj:  2.4286165e-02 \n",
      "Iter: 10 Ap: 4.15e-01 Pobj: -1.2331137e+02 Ad: 5.48e-01 Dobj:  2.9720227e-02 \n",
      "Iter: 11 Ap: 3.10e-01 Pobj: -1.1530127e+02 Ad: 4.02e-01 Dobj:  3.2147227e-02 \n",
      "Iter: 12 Ap: 3.45e-01 Pobj: -1.0780678e+02 Ad: 3.75e-01 Dobj:  3.6270890e-02 \n",
      "Iter: 13 Ap: 4.14e-01 Pobj: -9.8657707e+01 Ad: 5.15e-01 Dobj:  3.8357739e-02 \n",
      "Iter: 14 Ap: 5.08e-01 Pobj: -9.1283903e+01 Ad: 4.67e-01 Dobj:  4.0624007e-02 \n",
      "Iter: 15 Ap: 6.03e-01 Pobj: -8.3349743e+01 Ad: 5.81e-01 Dobj:  4.0111137e-02 \n",
      "Iter: 16 Ap: 2.83e-01 Pobj: -7.9656754e+01 Ad: 4.63e-01 Dobj:  3.9383212e-02 \n",
      "Iter: 17 Ap: 4.36e-01 Pobj: -7.0725960e+01 Ad: 5.28e-01 Dobj:  3.8319134e-02 \n",
      "Iter: 18 Ap: 3.31e-01 Pobj: -6.3358745e+01 Ad: 5.06e-01 Dobj:  3.7657041e-02 \n",
      "Iter: 19 Ap: 2.60e-01 Pobj: -5.8505296e+01 Ad: 5.24e-01 Dobj:  3.7123401e-02 \n",
      "Iter: 20 Ap: 6.11e-01 Pobj: -4.1674034e+01 Ad: 5.22e-01 Dobj:  3.6770696e-02 \n",
      "Iter: 21 Ap: 6.24e-01 Pobj: -2.8772741e+01 Ad: 8.01e-01 Dobj:  3.6461754e-02 \n",
      "Iter: 22 Ap: 9.66e-01 Pobj: -8.4331973e+00 Ad: 1.00e+00 Dobj:  3.6295551e-02 \n",
      "Iter: 23 Ap: 9.97e-01 Pobj: -6.4472688e-01 Ad: 1.00e+00 Dobj:  3.6074692e-02 \n",
      "Iter: 24 Ap: 1.00e+00 Pobj: -2.3028991e-01 Ad: 1.00e+00 Dobj:  3.3600547e-02 \n",
      "Iter: 25 Ap: 1.00e+00 Pobj: -9.6524952e-02 Ad: 9.00e-01 Dobj:  3.0253357e-02 \n",
      "Iter: 26 Ap: 1.00e+00 Pobj: -5.8264250e-02 Ad: 1.00e+00 Dobj:  2.6704483e-02 \n",
      "Iter: 27 Ap: 1.00e+00 Pobj: -2.1674796e-02 Ad: 1.00e+00 Dobj:  2.2054654e-02 \n",
      "Iter: 28 Ap: 6.73e-01 Pobj: -1.6158194e-02 Ad: 1.00e+00 Dobj:  1.6039534e-02 \n",
      "Iter: 29 Ap: 3.06e-01 Pobj: -1.4013506e-02 Ad: 7.01e-01 Dobj:  1.4260830e-02 \n",
      "Iter: 30 Ap: 7.47e-01 Pobj: -9.5161673e-03 Ad: 1.00e+00 Dobj:  1.0778587e-02 \n",
      "Iter: 31 Ap: 1.00e+00 Pobj: -3.6149989e-03 Ad: 1.00e+00 Dobj:  6.4845510e-03 \n",
      "Iter: 32 Ap: 9.30e-01 Pobj: -1.1957919e-03 Ad: 1.00e+00 Dobj:  3.0251477e-03 \n",
      "Iter: 33 Ap: 1.00e+00 Pobj: -3.5179669e-04 Ad: 1.00e+00 Dobj:  2.2517511e-03 \n",
      "Iter: 34 Ap: 9.73e-01 Pobj: -1.0567007e-04 Ad: 1.00e+00 Dobj:  9.1141878e-04 \n",
      "Iter: 35 Ap: 1.00e+00 Pobj: -4.2609941e-05 Ad: 1.00e+00 Dobj:  4.8823370e-04 \n",
      "Iter: 36 Ap: 8.11e-01 Pobj: -2.6095243e-05 Ad: 1.00e+00 Dobj:  2.4591234e-04 \n",
      "Iter: 37 Ap: 9.09e-01 Pobj: -1.3818707e-05 Ad: 1.00e+00 Dobj:  1.2585224e-04 \n",
      "Iter: 38 Ap: 8.88e-01 Pobj: -8.1937216e-06 Ad: 1.00e+00 Dobj:  6.1308942e-05 \n",
      "Iter: 39 Ap: 8.31e-01 Pobj: -5.1388929e-06 Ad: 1.00e+00 Dobj:  2.7591796e-05 \n",
      "Iter: 40 Ap: 8.06e-01 Pobj: -3.3614778e-06 Ad: 1.00e+00 Dobj:  1.1862313e-05 \n",
      "Iter: 41 Ap: 8.09e-01 Pobj: -2.2552614e-06 Ad: 1.00e+00 Dobj:  2.9782043e-06 \n",
      "Iter: 42 Ap: 8.42e-01 Pobj: -1.4569789e-06 Ad: 1.00e+00 Dobj: -3.2047892e-06 \n",
      "Iter: 43 Ap: 7.75e-01 Pobj: -1.0240722e-06 Ad: 1.00e+00 Dobj: -6.7174531e-06 \n",
      "Iter: 44 Ap: 1.00e+00 Pobj: -6.5118447e-07 Ad: 1.00e+00 Dobj: -8.8789511e-06 \n",
      "Iter: 45 Ap: 1.00e+00 Pobj: -3.4093382e-07 Ad: 1.00e+00 Dobj: -1.1309514e-05 \n",
      "Iter: 46 Ap: 1.00e+00 Pobj: -1.3174405e-07 Ad: 1.00e+00 Dobj: -7.0595474e-06 \n",
      "Iter: 47 Ap: 1.00e+00 Pobj: -3.5261438e-08 Ad: 9.56e-01 Dobj: -1.6304007e-06 \n",
      "Iter: 48 Ap: 1.00e+00 Pobj: -7.1600780e-09 Ad: 9.18e-01 Dobj: -2.9561380e-07 \n",
      "Iter: 49 Ap: 1.00e+00 Pobj: -6.3256653e-10 Ad: 9.28e-01 Dobj: -3.8190745e-08 \n",
      "Iter: 50 Ap: 9.41e-01 Pobj: -4.1415420e-11 Ad: 9.54e-01 Dobj: -2.3434256e-09 \n",
      "Success: SDP solved\n",
      "Primal objective value: -4.1415420e-11 \n",
      "Dual objective value: -2.3434256e-09 \n",
      "Relative primal infeasibility: 4.48e-11 \n",
      "Relative dual infeasibility: 1.18e-10 \n",
      "Real Relative Gap: -2.30e-09 \n",
      "XZ Relative Gap: 9.26e-10 \n",
      "DIMACS error measures: 2.65e-10 0.00e+00 5.77e-10 0.00e+00 -2.30e-09 9.26e-10\n",
      "Starting the rounding of the result\n",
      "Rounding X matrices\n",
      "Calculating resulting bound\n"
     ]
    },
    {
     "name": "stderr",
     "output_type": "stream",
     "text": [
      "100%|████████████████████████████████████████████████████████████████████████████████████████████████████████████████████████████████████████████████████████████████| 20/20 [03:52<00:00, 11.64s/it]\n"
     ]
    },
    {
     "name": "stdout",
     "output_type": "stream",
     "text": [
      "Final rounded bound is 0\n"
     ]
    },
    {
     "data": {
      "text/plain": [
       "0"
      ]
     },
     "execution_count": 7,
     "metadata": {},
     "output_type": "execute_result"
    }
   ],
   "source": [
    "### This is the code that performs the calculations on the colored theory\n",
    "\n",
    "# edge with (C)orrect colors\n",
    "C = CTGp(3, edges=[[0, 1, 2]], C0=[0], C1=[1], C2=[2])\n",
    "# edge with (C)orrect colors (p)ointed\n",
    "Cp = CTGp(3, edges=[[0, 1, 2]], C0=[0], C1=[1], C2=[2], ftype=[0])\n",
    "\n",
    "# edge with (B)ad colors (since color-blind, this includes the bad edges looking the wrong way too)\n",
    "B = CTGp(3, edges=[[0, 1, 2]], C0=[0, 1], C1=[2])\n",
    "\n",
    "# edge with (B)ad colors (p)ointed \n",
    "Bp = CTGp(3, edges=[[0, 1, 2]], C0=[0, 2], C1=[1], C2=[], ftype=[0])\n",
    "\n",
    "# (M)issing edge with good colors\n",
    "M = CTGp(3, edges=[], C0=[0], C1=[1], C2=[2])\n",
    "\n",
    "# positivity assumptions\n",
    "# each point, good edges are more than bad edges (divided by two due to the wrong color order)\n",
    "# edge density is larger than previous calculation\n",
    "colored_assums = [Cp - Bp/2, C - out_1/out_0]\n",
    "\n",
    "# optimal construction and its derivatives\n",
    "optim = CTGp.blowup_construction(6, 3, edges=[[0, 1, 2]], C0=[[0]], C1=[[1]], C2=[[2]], symmetric=True, symbolic=True)\n",
    "ssoptim = optim.set_sum()\n",
    "der_optims = ssoptim.derivatives([1/3, 1/3])\n",
    "\n",
    "# bad is less than missing, proven by (B)ad (M)inum (M)issing is at most 0.\n",
    "CTGp.optimize(B + (-99/100)*M, 6, positives=colored_assums, \n",
    "              exact=True, construction=der_optims, denom=2048, file=\"certificates/no_c5m_2\")"
   ]
  },
  {
   "cell_type": "code",
   "execution_count": 4,
   "id": "d8551b3b-27c4-47d8-b877-9a6463e9e5df",
   "metadata": {},
   "outputs": [],
   "source": [
    "### Theory for 3-colored 2-graphs, appearing as a link in c5m-free 3-graphs\n",
    "Asymm3ColorTheory = combine(\"Asymm3Colors\", Color0, Color1, Color2, symmetries=NoSymmetry)\n",
    "#Again, force the colors to be disjoint\n",
    "Asymm3ColorTheory.exclude([\n",
    "    Asymm3ColorTheory(1), \n",
    "    Asymm3ColorTheory(1, C0=[0], C1=[0]), \n",
    "    Asymm3ColorTheory(1, C0=[0], C2=[0]), \n",
    "    Asymm3ColorTheory(1, C1=[0], C2=[0]),\n",
    "    Asymm3ColorTheory(1, C0=[0], C1=[0], C2=[0])\n",
    "])\n",
    "ColoredLinkGraphTheory = combine(\"ColoredLinkGraph\", GraphTheory, Asymm3ColorTheory)\n",
    "CLGT = ColoredLinkGraphTheory\n",
    "CLGT.exclude([\n",
    "    CLGT.pattern(4, edges=[[0, 1], [2, 3]], C0=[0], C1=[1, 2], C2=[3]),\n",
    "    CLGT.pattern(4, edges=[[0, 1], [2, 3]], C0=[1, 2], C1=[0], C2=[3]),\n",
    "    CLGT.pattern(4, edges=[[0, 1], [2, 3]], C0=[0], C1=[3], C2=[1, 2]),\n",
    "    \n",
    "    CLGT.pattern(3, edges=[[0, 1], [1, 2]], C0=[0], C1=[1], C2=[2]),\n",
    "    CLGT.pattern(3, edges=[[0, 1], [1, 2]], C0=[1], C1=[0], C2=[2]),\n",
    "    CLGT.pattern(3, edges=[[0, 1], [1, 2]], C0=[0], C1=[2], C2=[1]),\n",
    "\n",
    "    CLGT.pattern(3, edges=[[0, 1], [1, 2]], C0=[0, 1], C1=[2], C2=[]),\n",
    "    CLGT.pattern(3, edges=[[0, 1], [1, 2]], C0=[0, 1], C1=[], C2=[2]),\n",
    "    CLGT.pattern(3, edges=[[0, 1], [1, 2]], C0=[2], C1=[0, 1], C2=[]),\n",
    "    CLGT.pattern(3, edges=[[0, 1], [1, 2]], C0=[], C1=[0, 1], C2=[2]),\n",
    "    CLGT.pattern(3, edges=[[0, 1], [1, 2]], C0=[2], C1=[], C2=[0, 1]),\n",
    "    CLGT.pattern(3, edges=[[0, 1], [1, 2]], C0=[], C1=[2], C2=[0, 1])\n",
    "])"
   ]
  },
  {
   "cell_type": "code",
   "execution_count": 9,
   "id": "2e66d510-67ed-4ca6-b91c-8924cc4dad1e",
   "metadata": {
    "scrolled": true
   },
   "outputs": [
    {
     "name": "stdout",
     "output_type": "stream",
     "text": [
      "Base flags generated, their number is 450\n",
      "The relevant ftypes are constructed, their number is 43\n",
      "Block sizes before symmetric/asymmetric change is applied: [28, 28, 28, 24, 15, 15, 24, 15, 12, 15, 15, 15, 24, 12, 8, 9, 9, 8, 12, 8, 9, 6, 6, 6, 8, 9, 9, 8, 9, 8, 12, 10, 7, 7, 10, 7, 7, 7, 7, 10, 10, 10, 10]\n"
     ]
    },
    {
     "name": "stderr",
     "output_type": "stream",
     "text": [
      "Done with mult table for Ftype on 3 points with edges=(01 02 12), C0=(0 1 2), C1=(), C2=(): : 43it [00:06,  6.43it/s]\n"
     ]
    },
    {
     "name": "stdout",
     "output_type": "stream",
     "text": [
      "Tables finished\n"
     ]
    },
    {
     "name": "stderr",
     "output_type": "stream",
     "text": [
      "Done with positivity constraint 5: 100%|███████████████████████████████████████████████████████████████████████████████████████████████████████████████████████████████| 6/6 [00:00<00:00, 16.15it/s]\n"
     ]
    },
    {
     "name": "stdout",
     "output_type": "stream",
     "text": [
      "Constraints finished\n",
      "Running sdp without construction. Used block sizes are [28, 28, 28, 12, 12, 12, 3, 12, 3, 12, 12, 12, 3, 12, 12, 3, 12, 3, 12, 3, 12, 12, 10, 2, 8, 8, 1, 8, 1, 8, 10, 2, 8, 8, 1, 6, 6, 6, 8, 8, 1, 8, 1, 8, 8, 1, 8, 10, 2, 8, 2, 6, 1, 6, 1, 8, 2, 6, 1, 6, 1, 6, 1, 6, 1, 8, 2, 6, 4, 6, 4, 6, 4, -450, -527]\n",
      "CSDP 6.2.0\n",
      "Iter:  0 Ap: 0.00e+00 Pobj:  0.0000000e+00 Ad: 0.00e+00 Dobj:  0.0000000e+00 \n",
      "Iter:  1 Ap: 1.00e+00 Pobj: -5.1999187e+01 Ad: 7.05e-01 Dobj:  5.9676437e+00 \n",
      "Iter:  2 Ap: 1.00e+00 Pobj: -5.3939332e+01 Ad: 9.53e-01 Dobj: -1.6118199e-01 \n",
      "Iter:  3 Ap: 1.00e+00 Pobj: -5.4942126e+01 Ad: 9.48e-01 Dobj: -8.4206354e-02 \n",
      "Iter:  4 Ap: 8.83e-01 Pobj: -4.7784467e+01 Ad: 8.49e-01 Dobj: -5.4410110e-02 \n",
      "Iter:  5 Ap: 9.04e-01 Pobj: -2.7979441e+01 Ad: 5.39e-01 Dobj: -1.5283247e-02 \n",
      "Iter:  6 Ap: 3.33e-01 Pobj: -2.7314758e+01 Ad: 6.34e-01 Dobj:  2.3737999e-02 \n",
      "Iter:  7 Ap: 6.75e-01 Pobj: -2.0069418e+01 Ad: 2.86e-01 Dobj:  3.1912227e-02 \n",
      "Iter:  8 Ap: 1.00e+00 Pobj: -1.2998039e+01 Ad: 7.15e-01 Dobj:  5.6591390e-02 \n",
      "Iter:  9 Ap: 9.32e-01 Pobj: -6.7363532e+00 Ad: 6.97e-01 Dobj:  6.4427236e-02 \n",
      "Iter: 10 Ap: 1.00e+00 Pobj: -2.5194689e+00 Ad: 8.10e-01 Dobj:  6.7751655e-02 \n",
      "Iter: 11 Ap: 1.00e+00 Pobj: -3.1632993e-01 Ad: 9.40e-01 Dobj:  6.5964759e-02 \n",
      "Iter: 12 Ap: 1.00e+00 Pobj: -6.3023342e-02 Ad: 7.15e-01 Dobj:  5.2253483e-02 \n",
      "Iter: 13 Ap: 1.00e+00 Pobj: -4.7706671e-02 Ad: 6.54e-01 Dobj:  2.8341176e-02 \n",
      "Iter: 14 Ap: 1.00e+00 Pobj: -1.5316267e-02 Ad: 1.00e+00 Dobj:  1.2559330e-02 \n",
      "Iter: 15 Ap: 1.00e+00 Pobj: -3.4747542e-03 Ad: 1.00e+00 Dobj:  3.7806478e-03 \n",
      "Iter: 16 Ap: 1.00e+00 Pobj: -3.7725514e-04 Ad: 1.00e+00 Dobj:  5.3131545e-04 \n",
      "Iter: 17 Ap: 9.29e-01 Pobj: -1.2432593e-04 Ad: 1.00e+00 Dobj:  1.5408938e-04 \n",
      "Iter: 18 Ap: 8.33e-01 Pobj: -5.8617276e-05 Ad: 1.00e+00 Dobj:  5.8593988e-05 \n",
      "Iter: 19 Ap: 1.00e+00 Pobj: -2.5380103e-05 Ad: 1.00e+00 Dobj:  2.5813321e-05 \n",
      "Iter: 20 Ap: 1.00e+00 Pobj: -1.1339325e-05 Ad: 1.00e+00 Dobj:  3.2586163e-06 \n",
      "Iter: 21 Ap: 8.62e-01 Pobj: -6.2269554e-06 Ad: 1.00e+00 Dobj: -4.0148408e-06 \n",
      "Iter: 22 Ap: 7.82e-01 Pobj: -4.1433793e-06 Ad: 1.00e+00 Dobj: -6.1379534e-06 \n",
      "Iter: 23 Ap: 1.00e+00 Pobj: -2.5233127e-06 Ad: 1.00e+00 Dobj: -7.5393490e-06 \n",
      "Iter: 24 Ap: 1.00e+00 Pobj: -9.6495965e-07 Ad: 1.00e+00 Dobj: -9.0857687e-06 \n",
      "Iter: 25 Ap: 1.00e+00 Pobj: -2.3730198e-07 Ad: 1.00e+00 Dobj: -2.4418838e-06 \n",
      "Iter: 26 Ap: 1.00e+00 Pobj: -3.0083802e-08 Ad: 1.00e+00 Dobj: -2.5274735e-07 \n",
      "Iter: 27 Ap: 9.60e-01 Pobj: -1.1982301e-09 Ad: 9.33e-01 Dobj: -2.6736092e-08 \n",
      "Success: SDP solved\n",
      "Primal objective value: -1.1982301e-09 \n",
      "Dual objective value: -2.6736092e-08 \n",
      "Relative primal infeasibility: 5.14e-13 \n",
      "Relative dual infeasibility: 1.67e-09 \n",
      "Real Relative Gap: -2.55e-08 \n",
      "XZ Relative Gap: 7.68e-09 \n",
      "DIMACS error measures: 1.86e-12 0.00e+00 1.17e-08 0.00e+00 -2.55e-08 7.68e-09\n",
      "The initial run didn't provide an accurate construction\n",
      "Rounding X matrices\n"
     ]
    },
    {
     "name": "stderr",
     "output_type": "stream",
     "text": [
      "100%|███████████████████████████████████████████████████████████████████████████████████████████████████████████████████████████████████████████████████████████████| 73/73 [00:00<00:00, 494.19it/s]\n"
     ]
    },
    {
     "name": "stdout",
     "output_type": "stream",
     "text": [
      "Calculating resulting bound\n"
     ]
    },
    {
     "name": "stderr",
     "output_type": "stream",
     "text": [
      "100%|████████████████████████████████████████████████████████████████████████████████████████████████████████████████████████████████████████████████████████████████| 43/43 [00:05<00:00,  8.55it/s]\n"
     ]
    },
    {
     "name": "stdout",
     "output_type": "stream",
     "text": [
      "The rounded result is 0\n"
     ]
    },
    {
     "data": {
      "text/plain": [
       "0"
      ]
     },
     "execution_count": 9,
     "metadata": {},
     "output_type": "execute_result"
    }
   ],
   "source": [
    "edge_00 = CLGT(2, edges=[[0, 1]], C0=[0, 1], C1=[], C2=[])\n",
    "edge_11 = CLGT(2, edges=[[0, 1]], C0=[], C1=[0, 1], C2=[])\n",
    "edge_22 = CLGT(2, edges=[[0, 1]], C0=[], C1=[], C2=[0, 1])\n",
    "edge_01 = CLGT(2, edges=[[0, 1]], C0=[0], C1=[1], C2=[])\n",
    "edge_12 = CLGT(2, edges=[[0, 1]], C0=[], C1=[0], C2=[1])\n",
    "edge_02 = CLGT(2, edges=[[0, 1]], C0=[0], C1=[], C2=[1])\n",
    "\n",
    "point0 = CLGT(1, C0 = [0])\n",
    "point1 = CLGT(1, C1 = [0])\n",
    "point2 = CLGT(1, C2 = [0])\n",
    "\n",
    "positives = [\n",
    "    edge_12 - edge_01, \n",
    "    edge_12 - edge_02,\n",
    "    edge_01 + edge_02 + edge_12 - 1/16,\n",
    "    point0 - 1/4, \n",
    "    point1 - 1/4, \n",
    "    point2 - 1/4\n",
    "]\n",
    "\n",
    "# (M)issing edge with good colors\n",
    "M = CLGT(2, edges=[], C0=[], C1=[0], C2=[1]) \n",
    "\n",
    "# edges with (B)ad colors \n",
    "B = sum([\n",
    "    CLGT(2, edges=[[0, 1]], C0=[0], C1=[1], C2=[]),\n",
    "    CLGT(2, edges=[[0, 1]], C0=[0], C1=[], C2=[1]),\n",
    "    CLGT(2, edges=[[0, 1]], C0=[], C1=[0, 1], C2=[]),\n",
    "    CLGT(2, edges=[[0, 1]], C0=[], C1=[], C2=[0, 1])\n",
    "])\n",
    "\n",
    "CLGT.optimize(B - M*9/10, 5, positives = positives, exact=True, file=\"certificates/no_c5m_3\")"
   ]
  },
  {
   "cell_type": "markdown",
   "id": "a5f95df4-8392-4a73-aa95-10aff1f634c3",
   "metadata": {},
   "source": [
    "Verify the certificates produced\n",
    "===============================\n",
    "\n",
    "Can be run without running the above cells. Note however that the \n",
    "initial call to these cells might take longer, due to the calculation of\n",
    "the multiplication tables. Once that is complete and stored, these cells \n",
    "verify the results fairly quickly."
   ]
  },
  {
   "cell_type": "code",
   "execution_count": 10,
   "id": "8c7ee2ee-d6c9-4850-a7b6-2d21d37cadc1",
   "metadata": {},
   "outputs": [
    {
     "name": "stdout",
     "output_type": "stream",
     "text": [
      "Checking X matrices\n"
     ]
    },
    {
     "name": "stderr",
     "output_type": "stream",
     "text": [
      "12it [02:10, 10.89s/it]\n"
     ]
    },
    {
     "name": "stdout",
     "output_type": "stream",
     "text": [
      "Solution matrices are all positive semidefinite, linear coefficients are all non-negative\n",
      "Calculating multiplication tables\n"
     ]
    },
    {
     "name": "stderr",
     "output_type": "stream",
     "text": [
      "12it [00:01,  7.50it/s]\n"
     ]
    },
    {
     "name": "stdout",
     "output_type": "stream",
     "text": [
      "Done with positivity constraint 0\n",
      "Done with positivity constraint 1\n",
      "Done with positivity constraint 2\n",
      "Done calculating linear constraints\n",
      "Calculating the bound provided by the certificate\n"
     ]
    },
    {
     "name": "stderr",
     "output_type": "stream",
     "text": [
      "12it [03:59, 19.95s/it]\n"
     ]
    },
    {
     "name": "stdout",
     "output_type": "stream",
     "text": [
      "The solution is valid, it proves the bound 66252689/264241152\n"
     ]
    },
    {
     "data": {
      "text/plain": [
       "66252689/264241152"
      ]
     },
     "execution_count": 10,
     "metadata": {},
     "output_type": "execute_result"
    }
   ],
   "source": [
    "k4m = ThreeGraphTheory.pattern(4, edges=[[0, 1, 2], [0, 1, 3], [0, 2, 3]])\n",
    "c5m = ThreeGraphTheory.pattern(5, edges=[[0, 1, 2], [1, 2, 3], [2, 3, 4], [3, 4, 0]])\n",
    "ThreeGraphTheory.exclude([k4m, c5m])\n",
    "TGp = ThreeGraphTheory\n",
    "\n",
    "excess_0 = TGp(4, ftype=[0, 1], edges=[[0, 2, 3]]) + TGp(4, ftype=[0, 1], edges=[[0, 2, 3], [0, 1, 2]])\n",
    "excess_1 = TGp(4, ftype=[0, 1], edges=[[1, 2, 3]]) + TGp(4, ftype=[0, 1], edges=[[1, 2, 3], [0, 1, 2]])\n",
    "degree_difference = excess_0 - excess_1\n",
    "pointed_edge = TGp(3, edges=[[0, 1, 2]], ftype=[0])\n",
    "standard_assums = [degree_difference, -degree_difference, pointed_edge-1/4]\n",
    "\n",
    "TGp.verify(\"certificates/no_c5m_0\", TGp(3, edges=[[0, 1, 2]]), 7, positives=standard_assums)"
   ]
  },
  {
   "cell_type": "code",
   "execution_count": 11,
   "id": "a8f7e074-34b4-4ea5-9b45-9d0c7e99a005",
   "metadata": {},
   "outputs": [
    {
     "name": "stdout",
     "output_type": "stream",
     "text": [
      "Checking X matrices\n"
     ]
    },
    {
     "name": "stderr",
     "output_type": "stream",
     "text": [
      "12it [02:43, 13.62s/it]\n"
     ]
    },
    {
     "name": "stdout",
     "output_type": "stream",
     "text": [
      "Solution matrices are all positive semidefinite, linear coefficients are all non-negative\n",
      "Calculating multiplication tables\n"
     ]
    },
    {
     "name": "stderr",
     "output_type": "stream",
     "text": [
      "12it [00:01,  7.35it/s]\n"
     ]
    },
    {
     "name": "stdout",
     "output_type": "stream",
     "text": [
      "Done with positivity constraint 0\n",
      "Done with positivity constraint 1\n",
      "Done calculating linear constraints\n",
      "Calculating the bound provided by the certificate\n"
     ]
    },
    {
     "name": "stderr",
     "output_type": "stream",
     "text": [
      "12it [04:03, 20.28s/it]\n"
     ]
    },
    {
     "name": "stdout",
     "output_type": "stream",
     "text": [
      "The solution is valid, it proves the bound 1609226815691/33030144000000\n"
     ]
    },
    {
     "data": {
      "text/plain": [
       "1609226815691/33030144000000"
      ]
     },
     "execution_count": 11,
     "metadata": {},
     "output_type": "execute_result"
    }
   ],
   "source": [
    "k4m = ThreeGraphTheory.pattern(4, edges=[[0, 1, 2], [0, 1, 3], [0, 2, 3]])\n",
    "c5m = ThreeGraphTheory.pattern(5, edges=[[0, 1, 2], [1, 2, 3], [2, 3, 4], [3, 4, 0]])\n",
    "ThreeGraphTheory.exclude([k4m, c5m])\n",
    "TGp = ThreeGraphTheory\n",
    "\n",
    "pointed_edge = TGp(3, edges=[[0, 1, 2]], ftype=[0])\n",
    "edge = TGp(3, edges=[[0, 1, 2]])\n",
    "f222 = TGp.pattern(6, ftype=[0, 1, 2], edges=[[0, 1, 2], [3, 4, 5], [0, 1, 5], [0, 2, 4], [1, 2, 3]]).afae()\n",
    "k222 = f222.project()\n",
    "degree_lower = pointed_edge - 1/4 + 1/100000\n",
    "edge_upper = out_0 - edge\n",
    "uncolored_assums = [degree_lower, edge_upper]\n",
    "\n",
    "TGp.verify(\"certificates/no_c5m_1\", k222, 7, maximize=False, positives=uncolored_assums)"
   ]
  },
  {
   "cell_type": "code",
   "execution_count": 12,
   "id": "781a249f-5aa2-4006-b580-3239d94d74d7",
   "metadata": {},
   "outputs": [
    {
     "name": "stdout",
     "output_type": "stream",
     "text": [
      "Checking X matrices\n"
     ]
    },
    {
     "name": "stderr",
     "output_type": "stream",
     "text": [
      "20it [00:03,  5.05it/s]\n"
     ]
    },
    {
     "name": "stdout",
     "output_type": "stream",
     "text": [
      "Solution matrices are all positive semidefinite, linear coefficients are all non-negative\n",
      "Calculating multiplication tables\n"
     ]
    },
    {
     "name": "stderr",
     "output_type": "stream",
     "text": [
      "20it [00:00, 26.30it/s]\n"
     ]
    },
    {
     "name": "stdout",
     "output_type": "stream",
     "text": [
      "Done with positivity constraint 0\n",
      "Done with positivity constraint 1\n",
      "Done calculating linear constraints\n",
      "Calculating the bound provided by the certificate\n"
     ]
    },
    {
     "name": "stderr",
     "output_type": "stream",
     "text": [
      "20it [03:39, 10.95s/it]"
     ]
    },
    {
     "name": "stdout",
     "output_type": "stream",
     "text": [
      "The solution is valid, it proves the bound 0\n"
     ]
    },
    {
     "name": "stderr",
     "output_type": "stream",
     "text": [
      "\n"
     ]
    },
    {
     "data": {
      "text/plain": [
       "0"
      ]
     },
     "execution_count": 12,
     "metadata": {},
     "output_type": "execute_result"
    }
   ],
   "source": [
    "Symm3ColorTheory = combine(\"Symm3Colors\", Color0, Color1, Color2, symmetries=FullSymmetry)\n",
    "Symm3ColorTheory.exclude([Symm3ColorTheory(1), Symm3ColorTheory.pattern(1, C0=[0], C1=[0])])\n",
    "ThreeColoredThreeGraphTheory = combine(\"ColoredNoC5m\", TGp, Symm3ColorTheory)\n",
    "CTGp = ThreeColoredThreeGraphTheory\n",
    "\n",
    "C = CTGp(3, edges=[[0, 1, 2]], C0=[0], C1=[1], C2=[2])\n",
    "Cp = CTGp(3, edges=[[0, 1, 2]], C0=[0], C1=[1], C2=[2], ftype=[0])\n",
    "B = CTGp(3, edges=[[0, 1, 2]], C0=[0, 1], C1=[2])\n",
    "Bp = CTGp(3, edges=[[0, 1, 2]], C0=[0, 2], C1=[1], C2=[], ftype=[0])\n",
    "M = CTGp(3, edges=[], C0=[0], C1=[1], C2=[2])\n",
    "colored_assums = [Cp - Bp/2, C - out_1/out_0]\n",
    "\n",
    "CTGp.verify(\"certificates/no_c5m_2\", B + (-99/100)*M, 6, positives=colored_assums)"
   ]
  },
  {
   "cell_type": "code",
   "execution_count": 10,
   "id": "54db91a3-66a3-4943-a482-0ad6974e388a",
   "metadata": {},
   "outputs": [
    {
     "name": "stdout",
     "output_type": "stream",
     "text": [
      "Checking X matrices\n"
     ]
    },
    {
     "name": "stderr",
     "output_type": "stream",
     "text": [
      "43it [00:00, 940.36it/s]\n"
     ]
    },
    {
     "name": "stdout",
     "output_type": "stream",
     "text": [
      "Solution matrices are all positive semidefinite, linear coefficients are all non-negative\n",
      "Calculating multiplication tables\n"
     ]
    },
    {
     "name": "stderr",
     "output_type": "stream",
     "text": [
      "43it [00:00, 439.77it/s]"
     ]
    },
    {
     "name": "stdout",
     "output_type": "stream",
     "text": [
      "Done with positivity constraint 0\n",
      "Done with positivity constraint 1\n",
      "Done with positivity constraint 2\n"
     ]
    },
    {
     "name": "stderr",
     "output_type": "stream",
     "text": [
      "\n"
     ]
    },
    {
     "name": "stdout",
     "output_type": "stream",
     "text": [
      "Done with positivity constraint 3\n",
      "Done with positivity constraint 4\n",
      "Done with positivity constraint 5\n",
      "Done calculating linear constraints\n",
      "Calculating the bound provided by the certificate\n"
     ]
    },
    {
     "name": "stderr",
     "output_type": "stream",
     "text": [
      "43it [00:04, 10.01it/s]"
     ]
    },
    {
     "name": "stdout",
     "output_type": "stream",
     "text": [
      "The solution is valid, it proves the bound 0\n"
     ]
    },
    {
     "name": "stderr",
     "output_type": "stream",
     "text": [
      "\n"
     ]
    },
    {
     "data": {
      "text/plain": [
       "0"
      ]
     },
     "execution_count": 10,
     "metadata": {},
     "output_type": "execute_result"
    }
   ],
   "source": [
    "Asymm3ColorTheory = combine(\"Asymm3Colors\", Color0, Color1, Color2, symmetries=NoSymmetry)\n",
    "Asymm3ColorTheory.exclude([\n",
    "    Asymm3ColorTheory(1), \n",
    "    Asymm3ColorTheory(1, C0=[0], C1=[0]), \n",
    "    Asymm3ColorTheory(1, C0=[0], C2=[0]), \n",
    "    Asymm3ColorTheory(1, C1=[0], C2=[0]),\n",
    "    Asymm3ColorTheory(1, C0=[0], C1=[0], C2=[0])\n",
    "])\n",
    "ColoredLinkGraphTheory = combine(\"ColoredLinkGraph\", GraphTheory, Asymm3ColorTheory)\n",
    "CLGT = ColoredLinkGraphTheory\n",
    "CLGT.exclude([\n",
    "    CLGT.pattern(4, edges=[[0, 1], [2, 3]], C0=[0], C1=[1, 2], C2=[3]),\n",
    "    CLGT.pattern(4, edges=[[0, 1], [2, 3]], C0=[1, 2], C1=[0], C2=[3]),\n",
    "    CLGT.pattern(4, edges=[[0, 1], [2, 3]], C0=[0], C1=[3], C2=[1, 2]),\n",
    "    \n",
    "    CLGT.pattern(3, edges=[[0, 1], [1, 2]], C0=[0], C1=[1], C2=[2]),\n",
    "    CLGT.pattern(3, edges=[[0, 1], [1, 2]], C0=[1], C1=[0], C2=[2]),\n",
    "    CLGT.pattern(3, edges=[[0, 1], [1, 2]], C0=[0], C1=[2], C2=[1]),\n",
    "\n",
    "    CLGT.pattern(3, edges=[[0, 1], [1, 2]], C0=[0, 1], C1=[2], C2=[]),\n",
    "    CLGT.pattern(3, edges=[[0, 1], [1, 2]], C0=[0, 1], C1=[], C2=[2]),\n",
    "    CLGT.pattern(3, edges=[[0, 1], [1, 2]], C0=[2], C1=[0, 1], C2=[]),\n",
    "    CLGT.pattern(3, edges=[[0, 1], [1, 2]], C0=[], C1=[0, 1], C2=[2]),\n",
    "    CLGT.pattern(3, edges=[[0, 1], [1, 2]], C0=[2], C1=[], C2=[0, 1]),\n",
    "    CLGT.pattern(3, edges=[[0, 1], [1, 2]], C0=[], C1=[2], C2=[0, 1])\n",
    "])\n",
    "\n",
    "edge_00 = CLGT(2, edges=[[0, 1]], C0=[0, 1], C1=[], C2=[])\n",
    "edge_11 = CLGT(2, edges=[[0, 1]], C0=[], C1=[0, 1], C2=[])\n",
    "edge_22 = CLGT(2, edges=[[0, 1]], C0=[], C1=[], C2=[0, 1])\n",
    "edge_01 = CLGT(2, edges=[[0, 1]], C0=[0], C1=[1], C2=[])\n",
    "edge_12 = CLGT(2, edges=[[0, 1]], C0=[], C1=[0], C2=[1])\n",
    "edge_02 = CLGT(2, edges=[[0, 1]], C0=[0], C1=[], C2=[1])\n",
    "point0 = CLGT(1, C0 = [0])\n",
    "point1 = CLGT(1, C1 = [0])\n",
    "point2 = CLGT(1, C2 = [0])\n",
    "positives = [\n",
    "    edge_12 - edge_01, \n",
    "    edge_12 - edge_02,\n",
    "    edge_01 + edge_02 + edge_12 - 1/16,\n",
    "    point0 - 1/4, \n",
    "    point1 - 1/4, \n",
    "    point2 - 1/4\n",
    "]\n",
    "M = CLGT(2, edges=[], C0=[], C1=[0], C2=[1]) \n",
    "B = sum([\n",
    "    CLGT(2, edges=[[0, 1]], C0=[0], C1=[1], C2=[]),\n",
    "    CLGT(2, edges=[[0, 1]], C0=[0], C1=[], C2=[1]),\n",
    "    CLGT(2, edges=[[0, 1]], C0=[], C1=[0, 1], C2=[]),\n",
    "    CLGT(2, edges=[[0, 1]], C0=[], C1=[], C2=[0, 1])\n",
    "])\n",
    "\n",
    "CLGT.verify(\"certificates/no_c5m_3\", B - M*9/10, 5, positives = positives)"
   ]
  }
 ],
 "metadata": {
  "kernelspec": {
   "display_name": "SageMath 10.5.beta7",
   "language": "sage",
   "name": "sagemath"
  },
  "language_info": {
   "codemirror_mode": {
    "name": "ipython",
    "version": 3
   },
   "file_extension": ".py",
   "mimetype": "text/x-python",
   "name": "python",
   "nbconvert_exporter": "python",
   "pygments_lexer": "ipython3",
   "version": "3.12.3"
  }
 },
 "nbformat": 4,
 "nbformat_minor": 5
}
